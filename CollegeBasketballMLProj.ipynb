{
  "cells": [
    {
      "cell_type": "markdown",
      "metadata": {
        "id": "RKxTmWUWLbh5"
      },
      "source": [
        "# College Basketball Machine Learning Model\n",
        "## Spring 2025 Data Science Project\n",
        "Collaborators: Jonathan Roth, Dylan Edwards, Abdul Khan"
      ]
    },
    {
      "cell_type": "markdown",
      "source": [
        "**Contributions Summary:**\n",
        "\n",
        "A: Project idea\n",
        "\n",
        "B: Dataset Curation and Preprocessing\n",
        "\n",
        "C: Data Exploration and Summary Statistics\n",
        "\n",
        "D: ML Algorithm Design/Development\n",
        "\n",
        "E: ML Algorithm Training and Test Data Analysis\n",
        "\n",
        "F: Visualization, Result Analysis, Conclusion\n",
        "\n",
        "G: Final Tutorial Report Creation\n",
        "\n",
        "**Jonathan Roth:**\n",
        "Sections: A, B, D, E\n",
        "\n",
        "Led the initial project brainstorming and helped design the predictive modeling pipeline. Contributed to data collection, preprocessing, and developing the machine learning algorithms used for training and evaluation.\n",
        "\n",
        "**Dylan Edwards:**\n",
        "Sections: A, C, D, F\n",
        "\n",
        "Worked on data exploration, statistical analysis, and visualizations. Also contributed to refining the machine learning models and analyzing results, helping to translate outputs into meaningful insights.\n",
        "\n",
        "**Abdul Khan:**\n",
        "Sections: B, F, G\n",
        "\n",
        "Supported dataset curation and home court advantage integration. Also helped with visualizing final results, writing up the tutorial report, and crafting the introduction and conclusion for the final submission."
      ],
      "metadata": {
        "id": "09j85f99vuvi"
      }
    },
    {
      "cell_type": "markdown",
      "source": [
        "## Introduction\n",
        "In college basketball, predicting the outcome of a game and especially the final point spread is no easy task. Our project tackles this challenge by using historical NCAA data and advanced analytics to build a model that can forecast game results with a focus on accuracy.\n",
        "\n",
        "We aim to answer the following questions:\n",
        "\n",
        "\n",
        "*   Can we accurately predict the outcome of a college basketball game using advanced team statistics?\n",
        "*   How much does home court advantage actually impact the final score or spread?\n",
        "*   Which factors—offensive efficiency, defensive metrics, location—are most important in determining a game’s result?\n",
        "\n",
        "To explore these questions, we collected detailed stats from BartTorvik.com for the 2023–2024 season and home court advantage estimates from public sources. These datasets give us thousands of game records and team-specific metrics that serve as the foundation for our predictions.\n",
        "\n",
        "In this project we aim to show how real world sports data can be turned into accurate predictions, and how much of the college basketball game can be understood through data."
      ],
      "metadata": {
        "id": "wGwZNPcevvpD"
      }
    },
    {
      "cell_type": "markdown",
      "source": [
        "## Data Collection\n",
        "\n",
        "To build a robust predictive model for college basketball game outcomes, we curated data from two primary sources. First, historical and current game statistics from the 2023–2024 and 2025 seasons were collected from BartTorvik.com, a platform for advanced college basketball analytics. This dataset included metrics such as adjusted offensive/defensive efficiency, tempo, effective field goal percentage, and turnover rates, which are critical for evaluating team performance. Second, to account for the impact of venue, home court advantage values for NCAA teams were sourced from Boyd’s Bet's. These sources were chosen for their reliability and alignment with the structured game data.\n",
        "\n",
        "The data collection process involved web scraping to automate extraction. For game statistics, Python’s Selenium library was employed to navigate BartTorvik’s dynamic content, including paginated tables and filters, using a headless browser to simulate user interactions. This ensured comprehensive coverage of all teams and seasons. For home court advantage data, a secondary scrape using BeautifulSoup parsed static HTML tables from Boyd’s Bets.\n",
        "\n",
        "##Data Preprocessing\n",
        "Raw datasets underwent rigorous cleaning and transformation to ensure usability. Duplicate entries and irrelevant columns were removed, while missing values were addressed by filtering out teams without corresponding home court data. Team names were standardized across datasets to enable accurate merging. The cleaned game statistics were merged with home court advantage values using team names as keys. To isolate venue effects, home advantage values were set to 0 for neutral-site and away games."
      ],
      "metadata": {
        "id": "4k4LTM7Qv7v6"
      }
    },
    {
      "cell_type": "markdown",
      "metadata": {
        "id": "57RzQ0PcySqc"
      },
      "source": [
        "# Webscraper for Historical and Current Games\n"
      ]
    },
    {
      "cell_type": "markdown",
      "metadata": {
        "id": "9DuRFGYD0_I_"
      },
      "source": [
        "Basic installing of packages for the selenium webdriver."
      ]
    },
    {
      "cell_type": "code",
      "execution_count": null,
      "metadata": {
        "collapsed": true,
        "id": "bPG1EM3grA4x"
      },
      "outputs": [],
      "source": [
        "# # Google Colab setup for Selenium + Headless Chrome\n",
        "%%capture\n",
        "!apt-get update -qq\n",
        "!apt install -y chromium-chromedriver\n",
        "!cp /usr/lib/chromium-browser/chromedriver /usr/bin\n",
        "!pip install -q selenium\n"
      ]
    },
    {
      "cell_type": "markdown",
      "metadata": {
        "id": "ugkHYFrfC6AY"
      },
      "source": [
        "IMPORTS"
      ]
    },
    {
      "cell_type": "code",
      "execution_count": null,
      "metadata": {
        "id": "tNLGhcdxC6AY"
      },
      "outputs": [],
      "source": [
        "import time\n",
        "import io\n",
        "import pandas as pd\n",
        "from bs4 import BeautifulSoup\n",
        "from selenium import webdriver\n",
        "from selenium.webdriver.chrome.options import Options\n",
        "from scipy import stats\n",
        "import matplotlib.pyplot as plt\n",
        "import seaborn as sns\n",
        "from sklearn.preprocessing import StandardScaler\n",
        "from sklearn.ensemble import RandomForestClassifier, RandomForestRegressor\n",
        "from sklearn.ensemble import GradientBoostingClassifier, GradientBoostingRegressor\n",
        "from sklearn.linear_model import LogisticRegression, LinearRegression\n",
        "from sklearn.svm import SVC\n",
        "from sklearn.metrics import accuracy_score, confusion_matrix, mean_absolute_error, mean_squared_error, r2_score, classification_report\n",
        "from sklearn.inspection import permutation_importance\n",
        "import joblib\n",
        "import os"
      ]
    },
    {
      "cell_type": "markdown",
      "metadata": {
        "id": "uqE3O8jn1Jcj"
      },
      "source": [
        "This is the webscraper that gets the basic data from barttorvik and puts it into two seperate csv files. historical_df represents game data from the 2023 and 2024 seasons, whereas current_df represents the current data from the ongoing 2025 season."
      ]
    },
    {
      "cell_type": "code",
      "execution_count": null,
      "metadata": {
        "colab": {
          "base_uri": "https://localhost:8080/"
        },
        "id": "Jz3G-lsAdVpS",
        "outputId": "7e8cca72-e5f4-439b-e052-b280e2bba35e"
      },
      "outputs": [
        {
          "output_type": "stream",
          "name": "stdout",
          "text": [
            "\n",
            "=== SCRAPING HISTORICAL DATA (2023-2024) ===\n",
            "Scraping: https://barttorvik.com/gamestat.php?sIndex=0&year=2024&tvalue=All&cvalue=All&opcvalue=All&ovalue=All&minwin=All&mindate=&maxdate=&typev=All&venvalue=All&minadjo=0&minadjd=200&mintempo=0&minppp=0&minefg=0&mintov=200&minreb=0&minftr=0&minpppd=200&minefgd=200&mintovd=0&minrebd=200&minftrd=200&mings=0&mingscript=-100&maxx=2500&coach=All&opcoach=All&adjoSelect=min&adjdSelect=max&tempoSelect=min&pppSelect=min&efgSelect=min&tovSelect=max&rebSelect=min&ftrSelect=min&pppdSelect=max&efgdSelect=max&tovdSelect=min&rebdSelect=max&ftrdSelect=max&gscriptSelect=min&sortToggle=0&quad=1\n",
            "  Found 2 table(s).\n",
            "  Successfully parsed the second table (shape: (1945, 25))\n",
            "Scraping: https://barttorvik.com/gamestat.php?sIndex=0&year=2024&tvalue=All&cvalue=All&opcvalue=All&ovalue=All&minwin=All&mindate=&maxdate=&typev=All&venvalue=All&minadjo=0&minadjd=200&mintempo=0&minppp=0&minefg=0&mintov=200&minreb=0&minftr=0&minpppd=200&minefgd=200&mintovd=0&minrebd=200&minftrd=200&mings=0&mingscript=-100&maxx=2500&coach=All&opcoach=All&adjoSelect=min&adjdSelect=max&tempoSelect=min&pppSelect=min&efgSelect=min&tovSelect=max&rebSelect=min&ftrSelect=min&pppdSelect=max&efgdSelect=max&tovdSelect=min&rebdSelect=max&ftrdSelect=max&gscriptSelect=min&sortToggle=1&quad=2\n",
            "  Found 2 table(s).\n",
            "  Successfully parsed the second table (shape: (2501, 25))\n",
            "Scraping: https://barttorvik.com/gamestat.php?sIndex=0&year=2024&tvalue=All&cvalue=All&opcvalue=All&ovalue=All&minwin=All&mindate=&maxdate=&typev=All&venvalue=All&minadjo=0&minadjd=200&mintempo=0&minppp=0&minefg=0&mintov=200&minreb=0&minftr=0&minpppd=200&minefgd=200&mintovd=0&minrebd=200&minftrd=200&mings=0&mingscript=-100&maxx=2500&coach=All&opcoach=All&adjoSelect=min&adjdSelect=max&tempoSelect=min&pppSelect=min&efgSelect=min&tovSelect=max&rebSelect=min&ftrSelect=min&pppdSelect=max&efgdSelect=max&tovdSelect=min&rebdSelect=max&ftrdSelect=max&gscriptSelect=min&sortToggle=1&quad=3\n",
            "  Found 2 table(s).\n",
            "  Successfully parsed the second table (shape: (2501, 25))\n",
            "Scraping: https://barttorvik.com/gamestat.php?sIndex=0&year=2024&tvalue=All&cvalue=All&opcvalue=All&ovalue=All&minwin=All&mindate=&maxdate=&typev=All&venvalue=All&minadjo=0&minadjd=200&mintempo=0&minppp=0&minefg=0&mintov=200&minreb=0&minftr=0&minpppd=200&minefgd=200&mintovd=0&minrebd=200&minftrd=200&mings=0&mingscript=-100&maxx=2500&coach=All&opcoach=All&adjoSelect=min&adjdSelect=max&tempoSelect=min&pppSelect=min&efgSelect=min&tovSelect=max&rebSelect=min&ftrSelect=min&pppdSelect=max&efgdSelect=max&tovdSelect=min&rebdSelect=max&ftrdSelect=max&gscriptSelect=min&sortToggle=1\n",
            "  Found 2 table(s).\n",
            "  Successfully parsed the second table (shape: (2501, 25))\n",
            "Scraping: https://barttorvik.com/gamestat.php?sIndex=7&year=2023&tvalue=All&cvalue=All&opcvalue=All&ovalue=All&minwin=All&mindate=&maxdate=&typev=All&venvalue=All&minadjo=0&minadjd=200&mintempo=0&minppp=0&minefg=0&mintov=200&minreb=0&minftr=0&minpppd=200&minefgd=200&mintovd=0&minrebd=200&minftrd=200&mings=0&mingscript=-100&maxx=100&coach=All&opcoach=All&adjoSelect=min&adjdSelect=max&tempoSelect=min&pppSelect=min&efgSelect=min&tovSelect=max&rebSelect=min&ftrSelect=min&pppdSelect=max&efgdSelect=max&tovdSelect=min&rebdSelect=max&ftrdSelect=max&gscriptSelect=min&sortToggle=1&quad=1\n",
            "  Found 2 table(s).\n",
            "  Successfully parsed the second table (shape: (101, 25))\n",
            "Scraping: https://barttorvik.com/gamestat.php?sIndex=7&year=2023&tvalue=All&cvalue=All&opcvalue=All&ovalue=All&minwin=All&mindate=&maxdate=&typev=All&venvalue=All&minadjo=0&minadjd=200&mintempo=0&minppp=0&minefg=0&mintov=200&minreb=0&minftr=0&minpppd=200&minefgd=200&mintovd=0&minrebd=200&minftrd=200&mings=0&mingscript=-100&maxx=100&coach=All&opcoach=All&adjoSelect=min&adjdSelect=max&tempoSelect=min&pppSelect=min&efgSelect=min&tovSelect=max&rebSelect=min&ftrSelect=min&pppdSelect=max&efgdSelect=max&tovdSelect=min&rebdSelect=max&ftrdSelect=max&gscriptSelect=min&sortToggle=1&quad=2\n",
            "  Found 2 table(s).\n",
            "  Successfully parsed the second table (shape: (101, 25))\n",
            "Scraping: https://barttorvik.com/gamestat.php?sIndex=7&year=2023&tvalue=All&cvalue=All&opcvalue=All&ovalue=All&minwin=All&mindate=&maxdate=&typev=All&venvalue=All&minadjo=0&minadjd=200&mintempo=0&minppp=0&minefg=0&mintov=200&minreb=0&minftr=0&minpppd=200&minefgd=200&mintovd=0&minrebd=200&minftrd=200&mings=0&mingscript=-100&maxx=100&coach=All&opcoach=All&adjoSelect=min&adjdSelect=max&tempoSelect=min&pppSelect=min&efgSelect=min&tovSelect=max&rebSelect=min&ftrSelect=min&pppdSelect=max&efgdSelect=max&tovdSelect=min&rebdSelect=max&ftrdSelect=max&gscriptSelect=min&sortToggle=1&quad=3\n",
            "  Found 2 table(s).\n",
            "  Successfully parsed the second table (shape: (101, 25))\n",
            "Scraping: https://barttorvik.com/gamestat.php?sIndex=7&year=2023&tvalue=All&cvalue=All&opcvalue=All&ovalue=All&minwin=All&mindate=&maxdate=&typev=All&venvalue=All&minadjo=0&minadjd=200&mintempo=0&minppp=0&minefg=0&mintov=200&minreb=0&minftr=0&minpppd=200&minefgd=200&mintovd=0&minrebd=200&minftrd=200&mings=0&mingscript=-100&maxx=100&coach=All&opcoach=All&adjoSelect=min&adjdSelect=max&tempoSelect=min&pppSelect=min&efgSelect=min&tovSelect=max&rebSelect=min&ftrSelect=min&pppdSelect=max&efgdSelect=max&tovdSelect=min&rebdSelect=max&ftrdSelect=max&gscriptSelect=min&sortToggle=1\n",
            "  Found 2 table(s).\n",
            "  Successfully parsed the second table (shape: (101, 25))\n",
            "\n",
            "Saved all second tables to 'historical_games.csv' (total rows: 9852)\n",
            "\n",
            "=== SCRAPING CURRENT SEASON DATA (2025) ===\n",
            "Scraping: https://barttorvik.com/gamestat.php?sIndex=7&year=2025&tvalue=All&cvalue=All&opcvalue=All&ovalue=All&minwin=All&mindate=&maxdate=&typev=All&venvalue=All&minadjo=0&minadjd=200&mintempo=0&minppp=0&minefg=0&mintov=200&minreb=0&minftr=0&minpppd=200&minefgd=200&mintovd=0&minrebd=200&minftrd=200&mings=0&mingscript=-100&maxx=2000&coach=All&opcoach=All&adjoSelect=min&adjdSelect=max&tempoSelect=min&pppSelect=min&efgSelect=min&tovSelect=max&rebSelect=min&ftrSelect=min&pppdSelect=max&efgdSelect=max&tovdSelect=min&rebdSelect=max&ftrdSelect=max&gscriptSelect=min&sortToggle=1&quad=1\n",
            "  Found 2 table(s).\n",
            "  Successfully parsed the second table (shape: (1952, 25))\n",
            "\n",
            "Saved all second tables to '2025_games.csv' (total rows: 1952)\n"
          ]
        }
      ],
      "source": [
        "\n",
        "\n",
        "# Historical URLs (2023-2024)\n",
        "historical_urls = [\n",
        "    \"https://barttorvik.com/gamestat.php?sIndex=0&year=2024&tvalue=All&cvalue=All&opcvalue=All&ovalue=All&minwin=All&mindate=&maxdate=&typev=All&venvalue=All&minadjo=0&minadjd=200&mintempo=0&minppp=0&minefg=0&mintov=200&minreb=0&minftr=0&minpppd=200&minefgd=200&mintovd=0&minrebd=200&minftrd=200&mings=0&mingscript=-100&maxx=2500&coach=All&opcoach=All&adjoSelect=min&adjdSelect=max&tempoSelect=min&pppSelect=min&efgSelect=min&tovSelect=max&rebSelect=min&ftrSelect=min&pppdSelect=max&efgdSelect=max&tovdSelect=min&rebdSelect=max&ftrdSelect=max&gscriptSelect=min&sortToggle=0&quad=1\",\n",
        "    \"https://barttorvik.com/gamestat.php?sIndex=0&year=2024&tvalue=All&cvalue=All&opcvalue=All&ovalue=All&minwin=All&mindate=&maxdate=&typev=All&venvalue=All&minadjo=0&minadjd=200&mintempo=0&minppp=0&minefg=0&mintov=200&minreb=0&minftr=0&minpppd=200&minefgd=200&mintovd=0&minrebd=200&minftrd=200&mings=0&mingscript=-100&maxx=2500&coach=All&opcoach=All&adjoSelect=min&adjdSelect=max&tempoSelect=min&pppSelect=min&efgSelect=min&tovSelect=max&rebSelect=min&ftrSelect=min&pppdSelect=max&efgdSelect=max&tovdSelect=min&rebdSelect=max&ftrdSelect=max&gscriptSelect=min&sortToggle=1&quad=2\",\n",
        "    \"https://barttorvik.com/gamestat.php?sIndex=0&year=2024&tvalue=All&cvalue=All&opcvalue=All&ovalue=All&minwin=All&mindate=&maxdate=&typev=All&venvalue=All&minadjo=0&minadjd=200&mintempo=0&minppp=0&minefg=0&mintov=200&minreb=0&minftr=0&minpppd=200&minefgd=200&mintovd=0&minrebd=200&minftrd=200&mings=0&mingscript=-100&maxx=2500&coach=All&opcoach=All&adjoSelect=min&adjdSelect=max&tempoSelect=min&pppSelect=min&efgSelect=min&tovSelect=max&rebSelect=min&ftrSelect=min&pppdSelect=max&efgdSelect=max&tovdSelect=min&rebdSelect=max&ftrdSelect=max&gscriptSelect=min&sortToggle=1&quad=3\",\n",
        "    \"https://barttorvik.com/gamestat.php?sIndex=0&year=2024&tvalue=All&cvalue=All&opcvalue=All&ovalue=All&minwin=All&mindate=&maxdate=&typev=All&venvalue=All&minadjo=0&minadjd=200&mintempo=0&minppp=0&minefg=0&mintov=200&minreb=0&minftr=0&minpppd=200&minefgd=200&mintovd=0&minrebd=200&minftrd=200&mings=0&mingscript=-100&maxx=2500&coach=All&opcoach=All&adjoSelect=min&adjdSelect=max&tempoSelect=min&pppSelect=min&efgSelect=min&tovSelect=max&rebSelect=min&ftrSelect=min&pppdSelect=max&efgdSelect=max&tovdSelect=min&rebdSelect=max&ftrdSelect=max&gscriptSelect=min&sortToggle=1\",\n",
        "    \"https://barttorvik.com/gamestat.php?sIndex=7&year=2023&tvalue=All&cvalue=All&opcvalue=All&ovalue=All&minwin=All&mindate=&maxdate=&typev=All&venvalue=All&minadjo=0&minadjd=200&mintempo=0&minppp=0&minefg=0&mintov=200&minreb=0&minftr=0&minpppd=200&minefgd=200&mintovd=0&minrebd=200&minftrd=200&mings=0&mingscript=-100&maxx=100&coach=All&opcoach=All&adjoSelect=min&adjdSelect=max&tempoSelect=min&pppSelect=min&efgSelect=min&tovSelect=max&rebSelect=min&ftrSelect=min&pppdSelect=max&efgdSelect=max&tovdSelect=min&rebdSelect=max&ftrdSelect=max&gscriptSelect=min&sortToggle=1&quad=1\",\n",
        "    \"https://barttorvik.com/gamestat.php?sIndex=7&year=2023&tvalue=All&cvalue=All&opcvalue=All&ovalue=All&minwin=All&mindate=&maxdate=&typev=All&venvalue=All&minadjo=0&minadjd=200&mintempo=0&minppp=0&minefg=0&mintov=200&minreb=0&minftr=0&minpppd=200&minefgd=200&mintovd=0&minrebd=200&minftrd=200&mings=0&mingscript=-100&maxx=100&coach=All&opcoach=All&adjoSelect=min&adjdSelect=max&tempoSelect=min&pppSelect=min&efgSelect=min&tovSelect=max&rebSelect=min&ftrSelect=min&pppdSelect=max&efgdSelect=max&tovdSelect=min&rebdSelect=max&ftrdSelect=max&gscriptSelect=min&sortToggle=1&quad=2\",\n",
        "    \"https://barttorvik.com/gamestat.php?sIndex=7&year=2023&tvalue=All&cvalue=All&opcvalue=All&ovalue=All&minwin=All&mindate=&maxdate=&typev=All&venvalue=All&minadjo=0&minadjd=200&mintempo=0&minppp=0&minefg=0&mintov=200&minreb=0&minftr=0&minpppd=200&minefgd=200&mintovd=0&minrebd=200&minftrd=200&mings=0&mingscript=-100&maxx=100&coach=All&opcoach=All&adjoSelect=min&adjdSelect=max&tempoSelect=min&pppSelect=min&efgSelect=min&tovSelect=max&rebSelect=min&ftrSelect=min&pppdSelect=max&efgdSelect=max&tovdSelect=min&rebdSelect=max&ftrdSelect=max&gscriptSelect=min&sortToggle=1&quad=3\",\n",
        "    \"https://barttorvik.com/gamestat.php?sIndex=7&year=2023&tvalue=All&cvalue=All&opcvalue=All&ovalue=All&minwin=All&mindate=&maxdate=&typev=All&venvalue=All&minadjo=0&minadjd=200&mintempo=0&minppp=0&minefg=0&mintov=200&minreb=0&minftr=0&minpppd=200&minefgd=200&mintovd=0&minrebd=200&minftrd=200&mings=0&mingscript=-100&maxx=100&coach=All&opcoach=All&adjoSelect=min&adjdSelect=max&tempoSelect=min&pppSelect=min&efgSelect=min&tovSelect=max&rebSelect=min&ftrSelect=min&pppdSelect=max&efgdSelect=max&tovdSelect=min&rebdSelect=max&ftrdSelect=max&gscriptSelect=min&sortToggle=1\",\n",
        "]\n",
        "\n",
        "# 2025 URLs\n",
        "current_urls = [\n",
        "    'https://barttorvik.com/gamestat.php?sIndex=7&year=2025&tvalue=All&cvalue=All&opcvalue=All&ovalue=All&minwin=All&mindate=&maxdate=&typev=All&venvalue=All&minadjo=0&minadjd=200&mintempo=0&minppp=0&minefg=0&mintov=200&minreb=0&minftr=0&minpppd=200&minefgd=200&mintovd=0&minrebd=200&minftrd=200&mings=0&mingscript=-100&maxx=2000&coach=All&opcoach=All&adjoSelect=min&adjdSelect=max&tempoSelect=min&pppSelect=min&efgSelect=min&tovSelect=max&rebSelect=min&ftrSelect=min&pppdSelect=max&efgdSelect=max&tovdSelect=min&rebdSelect=max&ftrdSelect=max&gscriptSelect=min&sortToggle=1&quad=1'\n",
        "]\n",
        "\n",
        "# Function to scrape game data from BartTorvik.com\n",
        "def scrape_urls(urls, output_filename):\n",
        "    dfs_all = []\n",
        "\n",
        "    chrome_options = Options()\n",
        "    chrome_options.add_argument(\"--headless\")\n",
        "    chrome_options.add_argument(\"--no-sandbox\")\n",
        "    chrome_options.add_argument(\"--disable-dev-shm-usage\")\n",
        "    driver = webdriver.Chrome(options=chrome_options)\n",
        "\n",
        "    for url in urls:\n",
        "        print(f\"Scraping: {url}\")\n",
        "        driver.get(url)\n",
        "        time.sleep(10)\n",
        "        html = driver.page_source\n",
        "        soup = BeautifulSoup(html, \"html.parser\")\n",
        "        tables = soup.find_all(\"table\")\n",
        "        print(f\"  Found {len(tables)} table(s).\")\n",
        "\n",
        "        if len(tables) >= 2:\n",
        "            tbl_html = str(tables[1])\n",
        "            df_list = pd.read_html(io.StringIO(tbl_html))\n",
        "            if df_list:\n",
        "                df_second = df_list[0]\n",
        "                dfs_all.append(df_second)\n",
        "                print(f\"  Successfully parsed the second table (shape: {df_second.shape})\")\n",
        "            else:\n",
        "                print(\"  Could not parse the second table with pd.read_html.\")\n",
        "        else:\n",
        "            print(\"  There's no second table on this page.\")\n",
        "\n",
        "    driver.quit()\n",
        "\n",
        "    if dfs_all:\n",
        "        df_combined = pd.concat(dfs_all, ignore_index=True)\n",
        "        df_combined.to_csv(output_filename, index=False)\n",
        "        print(f\"\\nSaved all second tables to '{output_filename}' (total rows: {len(df_combined)})\")\n",
        "        return df_combined\n",
        "    else:\n",
        "        print(f\"\\nNo data frames were found; no CSV file was created for {output_filename}.\")\n",
        "        return None\n",
        "\n",
        "# Run the scrapers\n",
        "print(\"\\n=== SCRAPING HISTORICAL DATA (2023-2024) ===\")\n",
        "historical_df = scrape_urls(historical_urls, \"historical_games.csv\")\n",
        "\n",
        "print(\"\\n=== SCRAPING CURRENT SEASON DATA (2025) ===\")\n",
        "current_df = scrape_urls(current_urls, \"2025_games.csv\")\n"
      ]
    },
    {
      "cell_type": "markdown",
      "metadata": {
        "id": "1F_g53DSiA_y"
      },
      "source": [
        "# Add Home Court Advantage Into Dataset\n"
      ]
    },
    {
      "cell_type": "markdown",
      "source": [
        "Home court advantage is especially important in college basketball, so we collected data from Boyds Bets that gave the historical advantage each team has when they play at home and added it into our dataset."
      ],
      "metadata": {
        "id": "o4IxUKCDzrbQ"
      }
    },
    {
      "cell_type": "code",
      "execution_count": null,
      "metadata": {
        "colab": {
          "base_uri": "https://localhost:8080/"
        },
        "id": "4SUskjPNp1Hr",
        "outputId": "77289837-933a-44b9-bdc2-0cdad6d495f6"
      },
      "outputs": [
        {
          "output_type": "stream",
          "name": "stdout",
          "text": [
            "Scraping: https://www.boydsbets.com/college-basketball-home-court-advantage/\n",
            "  Found 1 table(s).\n"
          ]
        }
      ],
      "source": [
        "historical_df = pd.read_csv(\"historical_games.csv\")\n",
        "current_df = pd.read_csv(\"2025_games.csv\")\n",
        "url=\"https://www.boydsbets.com/college-basketball-home-court-advantage/\"\n",
        "def scrape_home_court_advantage():\n",
        "  chrome_options = Options()\n",
        "  chrome_options.add_argument(\"--headless\")\n",
        "  chrome_options.add_argument(\"--no-sandbox\")\n",
        "  chrome_options.add_argument(\"--disable-dev-shm-usage\")\n",
        "  driver = webdriver.Chrome(options=chrome_options)\n",
        "  print(f\"Scraping: {url}\")\n",
        "  driver.get(url)\n",
        "  time.sleep(3)\n",
        "  html = driver.page_source\n",
        "  soup = BeautifulSoup(html, \"html.parser\")\n",
        "  tables = soup.find_all(\"table\")\n",
        "  print(f\"  Found {len(tables)} table(s).\")\n",
        "  table=str(tables[0])\n",
        "\n",
        "  homecourt_ad_df = pd.read_html(io.StringIO(table))[0]\n",
        "  homecourt_ad_df.dropna(inplace=True)\n",
        "  homecourt_ad_df.to_csv(\"homecourt_advantage.csv\", index=False)\n",
        "  driver.quit()\n",
        "  return homecourt_ad_df\n",
        "\n",
        "temp_hc_ad_df=scrape_home_court_advantage()\n"
      ]
    },
    {
      "cell_type": "markdown",
      "metadata": {
        "id": "SzwbyLHowXzt"
      },
      "source": [
        "We now have 3 data frames that need to be put together and cleaned. We will focus on historical data for the statistical analysis portion then leave the current year games for our testing data of our machine learning model."
      ]
    },
    {
      "cell_type": "markdown",
      "metadata": {
        "id": "a43ofoZbDSkw"
      },
      "source": [
        "# Basic Data Cleaning"
      ]
    },
    {
      "cell_type": "markdown",
      "metadata": {
        "id": "EDYHmdj9JpE9"
      },
      "source": [
        "Making the columns of our historical dataframe correct and dropping some uncessisary columns and rows."
      ]
    },
    {
      "cell_type": "code",
      "execution_count": null,
      "metadata": {
        "id": "ShDWUcAhJkCj"
      },
      "outputs": [],
      "source": [
        "historical_df.columns = historical_df.iloc[0]\n",
        "historical_df.drop(historical_df.head(1).index,inplace=True)\n",
        "historical_df.drop(historical_df.tail(1).index,inplace=True)\n",
        "historical_df.drop(historical_df.columns[-1],inplace=True,axis=1)\n",
        "historical_df.drop(historical_df.columns[0],inplace=True, axis=1)\n",
        "current_df.columns = current_df.iloc[0]\n",
        "current_df.drop(current_df.head(1).index,inplace=True)\n",
        "current_df.drop(current_df.tail(1).index,inplace=True)\n",
        "current_df.drop(current_df.columns[-1],inplace=True,axis=1)\n",
        "current_df.drop(current_df.columns[0],inplace=True, axis=1)"
      ]
    },
    {
      "cell_type": "markdown",
      "metadata": {
        "id": "mbFK4WuxJz5M"
      },
      "source": [
        "Merging in the home court advantage. Alot of the names between the two dataframes need to be slightly adjusted for the merge to work. Then any NaN values that are still not there will just be dropped from the DataFrame."
      ]
    },
    {
      "cell_type": "code",
      "execution_count": null,
      "metadata": {
        "colab": {
          "base_uri": "https://localhost:8080/",
          "height": 634
        },
        "id": "90-WhLrgyOLo",
        "outputId": "8989ede1-f775-4c1a-fb9a-3300821d7c52"
      },
      "outputs": [
        {
          "output_type": "display_data",
          "data": {
            "text/plain": [
              "       Rk      Date Type                Team Conf.         Opp. Venue  \\\n",
              "0       1    4/8/24    T         Connecticut    BE       Purdue     N   \n",
              "1       2    4/8/24    T              Purdue   B10  Connecticut     N   \n",
              "2       3    4/6/24    T             Alabama   SEC  Connecticut     N   \n",
              "3       4    4/6/24    T         Connecticut    BE      Alabama     N   \n",
              "4       5    4/6/24    T          N.C. State   ACC       Purdue     N   \n",
              "...   ...       ...  ...                 ...   ...          ...   ...   \n",
              "9846   96   2/23/23    C  Eastern Washington  BSky    Weber St.     A   \n",
              "9847   97    2/8/23    C             Alabama   SEC      Florida     H   \n",
              "9848   98  11/26/22    N           Boise St.   MWC  Utah Valley     H   \n",
              "9849   99    2/2/23    C             Arizona   P12       Oregon     H   \n",
              "9850  100  12/10/22    N             Arizona   P12      Indiana     N   \n",
              "\n",
              "        Result Adj. O Adj. D  ...   FTR    EFF  eFG%   TO%  Reb%   FTR  G-Sc  \\\n",
              "0     W, 75-60    135   83.5  ...  17.7   98.1  45.4  14.7    30  27.8  99.6   \n",
              "1     L, 75-60  115.3   99.6  ...  27.8  122.6  53.2  13.1  42.4  17.7  84.3   \n",
              "2     L, 86-72  136.3  109.8  ...    19  136.8  58.1   6.4  36.4    29  92.3   \n",
              "3     W, 86-72  137.2   98.7  ...    29  114.5  54.3  12.7  24.2    19  97.8   \n",
              "4     L, 63-50     87   81.8  ...     7   97.9  49.1  24.9  33.3  18.2  66.9   \n",
              "...        ...    ...    ...  ...   ...    ...   ...   ...   ...   ...   ...   \n",
              "9846  W, 89-82  137.8  129.2  ...  43.4    123  52.5    15  37.1  40.7  67.7   \n",
              "9847  W, 97-69  137.8   90.9  ...  20.5   91.5  38.1  13.3  28.3  49.2  99.2   \n",
              "9848  W, 87-69  137.8   99.3  ...  24.6  100.7  48.2  14.6  23.5  35.7  97.7   \n",
              "9849  W, 91-76  137.7   99.7  ...  37.9  107.8  48.4    17  30.8  28.6  97.6   \n",
              "9850  W, 89-75  137.5   99.3  ...  39.7  107.8  49.3  14.4  31.7    13  97.7   \n",
              "\n",
              "     +/- True Advantage   hca  \n",
              "0      7           3.86  3.86  \n",
              "1     -7           4.54  4.54  \n",
              "2     -4           4.86  4.86  \n",
              "3      4           3.86  3.86  \n",
              "4     -8           2.75  2.75  \n",
              "...   ..            ...   ...  \n",
              "9846   2           3.94  3.94  \n",
              "9847  18           4.86  4.86  \n",
              "9848  11           3.59  3.59  \n",
              "9849  11           3.51  3.51  \n",
              "9850   9           3.51  3.51  \n",
              "\n",
              "[7651 rows x 25 columns]"
            ],
            "text/html": [
              "\n",
              "  <div id=\"df-e0f2f8f1-62e4-49f6-ad4c-0dd9b2dd5b32\" class=\"colab-df-container\">\n",
              "    <div>\n",
              "<style scoped>\n",
              "    .dataframe tbody tr th:only-of-type {\n",
              "        vertical-align: middle;\n",
              "    }\n",
              "\n",
              "    .dataframe tbody tr th {\n",
              "        vertical-align: top;\n",
              "    }\n",
              "\n",
              "    .dataframe thead th {\n",
              "        text-align: right;\n",
              "    }\n",
              "</style>\n",
              "<table border=\"1\" class=\"dataframe\">\n",
              "  <thead>\n",
              "    <tr style=\"text-align: right;\">\n",
              "      <th></th>\n",
              "      <th>Rk</th>\n",
              "      <th>Date</th>\n",
              "      <th>Type</th>\n",
              "      <th>Team</th>\n",
              "      <th>Conf.</th>\n",
              "      <th>Opp.</th>\n",
              "      <th>Venue</th>\n",
              "      <th>Result</th>\n",
              "      <th>Adj. O</th>\n",
              "      <th>Adj. D</th>\n",
              "      <th>...</th>\n",
              "      <th>FTR</th>\n",
              "      <th>EFF</th>\n",
              "      <th>eFG%</th>\n",
              "      <th>TO%</th>\n",
              "      <th>Reb%</th>\n",
              "      <th>FTR</th>\n",
              "      <th>G-Sc</th>\n",
              "      <th>+/-</th>\n",
              "      <th>True Advantage</th>\n",
              "      <th>hca</th>\n",
              "    </tr>\n",
              "  </thead>\n",
              "  <tbody>\n",
              "    <tr>\n",
              "      <th>0</th>\n",
              "      <td>1</td>\n",
              "      <td>4/8/24</td>\n",
              "      <td>T</td>\n",
              "      <td>Connecticut</td>\n",
              "      <td>BE</td>\n",
              "      <td>Purdue</td>\n",
              "      <td>N</td>\n",
              "      <td>W, 75-60</td>\n",
              "      <td>135</td>\n",
              "      <td>83.5</td>\n",
              "      <td>...</td>\n",
              "      <td>17.7</td>\n",
              "      <td>98.1</td>\n",
              "      <td>45.4</td>\n",
              "      <td>14.7</td>\n",
              "      <td>30</td>\n",
              "      <td>27.8</td>\n",
              "      <td>99.6</td>\n",
              "      <td>7</td>\n",
              "      <td>3.86</td>\n",
              "      <td>3.86</td>\n",
              "    </tr>\n",
              "    <tr>\n",
              "      <th>1</th>\n",
              "      <td>2</td>\n",
              "      <td>4/8/24</td>\n",
              "      <td>T</td>\n",
              "      <td>Purdue</td>\n",
              "      <td>B10</td>\n",
              "      <td>Connecticut</td>\n",
              "      <td>N</td>\n",
              "      <td>L, 75-60</td>\n",
              "      <td>115.3</td>\n",
              "      <td>99.6</td>\n",
              "      <td>...</td>\n",
              "      <td>27.8</td>\n",
              "      <td>122.6</td>\n",
              "      <td>53.2</td>\n",
              "      <td>13.1</td>\n",
              "      <td>42.4</td>\n",
              "      <td>17.7</td>\n",
              "      <td>84.3</td>\n",
              "      <td>-7</td>\n",
              "      <td>4.54</td>\n",
              "      <td>4.54</td>\n",
              "    </tr>\n",
              "    <tr>\n",
              "      <th>2</th>\n",
              "      <td>3</td>\n",
              "      <td>4/6/24</td>\n",
              "      <td>T</td>\n",
              "      <td>Alabama</td>\n",
              "      <td>SEC</td>\n",
              "      <td>Connecticut</td>\n",
              "      <td>N</td>\n",
              "      <td>L, 86-72</td>\n",
              "      <td>136.3</td>\n",
              "      <td>109.8</td>\n",
              "      <td>...</td>\n",
              "      <td>19</td>\n",
              "      <td>136.8</td>\n",
              "      <td>58.1</td>\n",
              "      <td>6.4</td>\n",
              "      <td>36.4</td>\n",
              "      <td>29</td>\n",
              "      <td>92.3</td>\n",
              "      <td>-4</td>\n",
              "      <td>4.86</td>\n",
              "      <td>4.86</td>\n",
              "    </tr>\n",
              "    <tr>\n",
              "      <th>3</th>\n",
              "      <td>4</td>\n",
              "      <td>4/6/24</td>\n",
              "      <td>T</td>\n",
              "      <td>Connecticut</td>\n",
              "      <td>BE</td>\n",
              "      <td>Alabama</td>\n",
              "      <td>N</td>\n",
              "      <td>W, 86-72</td>\n",
              "      <td>137.2</td>\n",
              "      <td>98.7</td>\n",
              "      <td>...</td>\n",
              "      <td>29</td>\n",
              "      <td>114.5</td>\n",
              "      <td>54.3</td>\n",
              "      <td>12.7</td>\n",
              "      <td>24.2</td>\n",
              "      <td>19</td>\n",
              "      <td>97.8</td>\n",
              "      <td>4</td>\n",
              "      <td>3.86</td>\n",
              "      <td>3.86</td>\n",
              "    </tr>\n",
              "    <tr>\n",
              "      <th>4</th>\n",
              "      <td>5</td>\n",
              "      <td>4/6/24</td>\n",
              "      <td>T</td>\n",
              "      <td>N.C. State</td>\n",
              "      <td>ACC</td>\n",
              "      <td>Purdue</td>\n",
              "      <td>N</td>\n",
              "      <td>L, 63-50</td>\n",
              "      <td>87</td>\n",
              "      <td>81.8</td>\n",
              "      <td>...</td>\n",
              "      <td>7</td>\n",
              "      <td>97.9</td>\n",
              "      <td>49.1</td>\n",
              "      <td>24.9</td>\n",
              "      <td>33.3</td>\n",
              "      <td>18.2</td>\n",
              "      <td>66.9</td>\n",
              "      <td>-8</td>\n",
              "      <td>2.75</td>\n",
              "      <td>2.75</td>\n",
              "    </tr>\n",
              "    <tr>\n",
              "      <th>...</th>\n",
              "      <td>...</td>\n",
              "      <td>...</td>\n",
              "      <td>...</td>\n",
              "      <td>...</td>\n",
              "      <td>...</td>\n",
              "      <td>...</td>\n",
              "      <td>...</td>\n",
              "      <td>...</td>\n",
              "      <td>...</td>\n",
              "      <td>...</td>\n",
              "      <td>...</td>\n",
              "      <td>...</td>\n",
              "      <td>...</td>\n",
              "      <td>...</td>\n",
              "      <td>...</td>\n",
              "      <td>...</td>\n",
              "      <td>...</td>\n",
              "      <td>...</td>\n",
              "      <td>...</td>\n",
              "      <td>...</td>\n",
              "      <td>...</td>\n",
              "    </tr>\n",
              "    <tr>\n",
              "      <th>9846</th>\n",
              "      <td>96</td>\n",
              "      <td>2/23/23</td>\n",
              "      <td>C</td>\n",
              "      <td>Eastern Washington</td>\n",
              "      <td>BSky</td>\n",
              "      <td>Weber St.</td>\n",
              "      <td>A</td>\n",
              "      <td>W, 89-82</td>\n",
              "      <td>137.8</td>\n",
              "      <td>129.2</td>\n",
              "      <td>...</td>\n",
              "      <td>43.4</td>\n",
              "      <td>123</td>\n",
              "      <td>52.5</td>\n",
              "      <td>15</td>\n",
              "      <td>37.1</td>\n",
              "      <td>40.7</td>\n",
              "      <td>67.7</td>\n",
              "      <td>2</td>\n",
              "      <td>3.94</td>\n",
              "      <td>3.94</td>\n",
              "    </tr>\n",
              "    <tr>\n",
              "      <th>9847</th>\n",
              "      <td>97</td>\n",
              "      <td>2/8/23</td>\n",
              "      <td>C</td>\n",
              "      <td>Alabama</td>\n",
              "      <td>SEC</td>\n",
              "      <td>Florida</td>\n",
              "      <td>H</td>\n",
              "      <td>W, 97-69</td>\n",
              "      <td>137.8</td>\n",
              "      <td>90.9</td>\n",
              "      <td>...</td>\n",
              "      <td>20.5</td>\n",
              "      <td>91.5</td>\n",
              "      <td>38.1</td>\n",
              "      <td>13.3</td>\n",
              "      <td>28.3</td>\n",
              "      <td>49.2</td>\n",
              "      <td>99.2</td>\n",
              "      <td>18</td>\n",
              "      <td>4.86</td>\n",
              "      <td>4.86</td>\n",
              "    </tr>\n",
              "    <tr>\n",
              "      <th>9848</th>\n",
              "      <td>98</td>\n",
              "      <td>11/26/22</td>\n",
              "      <td>N</td>\n",
              "      <td>Boise St.</td>\n",
              "      <td>MWC</td>\n",
              "      <td>Utah Valley</td>\n",
              "      <td>H</td>\n",
              "      <td>W, 87-69</td>\n",
              "      <td>137.8</td>\n",
              "      <td>99.3</td>\n",
              "      <td>...</td>\n",
              "      <td>24.6</td>\n",
              "      <td>100.7</td>\n",
              "      <td>48.2</td>\n",
              "      <td>14.6</td>\n",
              "      <td>23.5</td>\n",
              "      <td>35.7</td>\n",
              "      <td>97.7</td>\n",
              "      <td>11</td>\n",
              "      <td>3.59</td>\n",
              "      <td>3.59</td>\n",
              "    </tr>\n",
              "    <tr>\n",
              "      <th>9849</th>\n",
              "      <td>99</td>\n",
              "      <td>2/2/23</td>\n",
              "      <td>C</td>\n",
              "      <td>Arizona</td>\n",
              "      <td>P12</td>\n",
              "      <td>Oregon</td>\n",
              "      <td>H</td>\n",
              "      <td>W, 91-76</td>\n",
              "      <td>137.7</td>\n",
              "      <td>99.7</td>\n",
              "      <td>...</td>\n",
              "      <td>37.9</td>\n",
              "      <td>107.8</td>\n",
              "      <td>48.4</td>\n",
              "      <td>17</td>\n",
              "      <td>30.8</td>\n",
              "      <td>28.6</td>\n",
              "      <td>97.6</td>\n",
              "      <td>11</td>\n",
              "      <td>3.51</td>\n",
              "      <td>3.51</td>\n",
              "    </tr>\n",
              "    <tr>\n",
              "      <th>9850</th>\n",
              "      <td>100</td>\n",
              "      <td>12/10/22</td>\n",
              "      <td>N</td>\n",
              "      <td>Arizona</td>\n",
              "      <td>P12</td>\n",
              "      <td>Indiana</td>\n",
              "      <td>N</td>\n",
              "      <td>W, 89-75</td>\n",
              "      <td>137.5</td>\n",
              "      <td>99.3</td>\n",
              "      <td>...</td>\n",
              "      <td>39.7</td>\n",
              "      <td>107.8</td>\n",
              "      <td>49.3</td>\n",
              "      <td>14.4</td>\n",
              "      <td>31.7</td>\n",
              "      <td>13</td>\n",
              "      <td>97.7</td>\n",
              "      <td>9</td>\n",
              "      <td>3.51</td>\n",
              "      <td>3.51</td>\n",
              "    </tr>\n",
              "  </tbody>\n",
              "</table>\n",
              "<p>7651 rows × 25 columns</p>\n",
              "</div>\n",
              "    <div class=\"colab-df-buttons\">\n",
              "\n",
              "  <div class=\"colab-df-container\">\n",
              "    <button class=\"colab-df-convert\" onclick=\"convertToInteractive('df-e0f2f8f1-62e4-49f6-ad4c-0dd9b2dd5b32')\"\n",
              "            title=\"Convert this dataframe to an interactive table.\"\n",
              "            style=\"display:none;\">\n",
              "\n",
              "  <svg xmlns=\"http://www.w3.org/2000/svg\" height=\"24px\" viewBox=\"0 -960 960 960\">\n",
              "    <path d=\"M120-120v-720h720v720H120Zm60-500h600v-160H180v160Zm220 220h160v-160H400v160Zm0 220h160v-160H400v160ZM180-400h160v-160H180v160Zm440 0h160v-160H620v160ZM180-180h160v-160H180v160Zm440 0h160v-160H620v160Z\"/>\n",
              "  </svg>\n",
              "    </button>\n",
              "\n",
              "  <style>\n",
              "    .colab-df-container {\n",
              "      display:flex;\n",
              "      gap: 12px;\n",
              "    }\n",
              "\n",
              "    .colab-df-convert {\n",
              "      background-color: #E8F0FE;\n",
              "      border: none;\n",
              "      border-radius: 50%;\n",
              "      cursor: pointer;\n",
              "      display: none;\n",
              "      fill: #1967D2;\n",
              "      height: 32px;\n",
              "      padding: 0 0 0 0;\n",
              "      width: 32px;\n",
              "    }\n",
              "\n",
              "    .colab-df-convert:hover {\n",
              "      background-color: #E2EBFA;\n",
              "      box-shadow: 0px 1px 2px rgba(60, 64, 67, 0.3), 0px 1px 3px 1px rgba(60, 64, 67, 0.15);\n",
              "      fill: #174EA6;\n",
              "    }\n",
              "\n",
              "    .colab-df-buttons div {\n",
              "      margin-bottom: 4px;\n",
              "    }\n",
              "\n",
              "    [theme=dark] .colab-df-convert {\n",
              "      background-color: #3B4455;\n",
              "      fill: #D2E3FC;\n",
              "    }\n",
              "\n",
              "    [theme=dark] .colab-df-convert:hover {\n",
              "      background-color: #434B5C;\n",
              "      box-shadow: 0px 1px 3px 1px rgba(0, 0, 0, 0.15);\n",
              "      filter: drop-shadow(0px 1px 2px rgba(0, 0, 0, 0.3));\n",
              "      fill: #FFFFFF;\n",
              "    }\n",
              "  </style>\n",
              "\n",
              "    <script>\n",
              "      const buttonEl =\n",
              "        document.querySelector('#df-e0f2f8f1-62e4-49f6-ad4c-0dd9b2dd5b32 button.colab-df-convert');\n",
              "      buttonEl.style.display =\n",
              "        google.colab.kernel.accessAllowed ? 'block' : 'none';\n",
              "\n",
              "      async function convertToInteractive(key) {\n",
              "        const element = document.querySelector('#df-e0f2f8f1-62e4-49f6-ad4c-0dd9b2dd5b32');\n",
              "        const dataTable =\n",
              "          await google.colab.kernel.invokeFunction('convertToInteractive',\n",
              "                                                    [key], {});\n",
              "        if (!dataTable) return;\n",
              "\n",
              "        const docLinkHtml = 'Like what you see? Visit the ' +\n",
              "          '<a target=\"_blank\" href=https://colab.research.google.com/notebooks/data_table.ipynb>data table notebook</a>'\n",
              "          + ' to learn more about interactive tables.';\n",
              "        element.innerHTML = '';\n",
              "        dataTable['output_type'] = 'display_data';\n",
              "        await google.colab.output.renderOutput(dataTable, element);\n",
              "        const docLink = document.createElement('div');\n",
              "        docLink.innerHTML = docLinkHtml;\n",
              "        element.appendChild(docLink);\n",
              "      }\n",
              "    </script>\n",
              "  </div>\n",
              "\n",
              "\n",
              "    <div id=\"df-1c0efea4-9394-4527-8e7c-194a9500df8a\">\n",
              "      <button class=\"colab-df-quickchart\" onclick=\"quickchart('df-1c0efea4-9394-4527-8e7c-194a9500df8a')\"\n",
              "                title=\"Suggest charts\"\n",
              "                style=\"display:none;\">\n",
              "\n",
              "<svg xmlns=\"http://www.w3.org/2000/svg\" height=\"24px\"viewBox=\"0 0 24 24\"\n",
              "     width=\"24px\">\n",
              "    <g>\n",
              "        <path d=\"M19 3H5c-1.1 0-2 .9-2 2v14c0 1.1.9 2 2 2h14c1.1 0 2-.9 2-2V5c0-1.1-.9-2-2-2zM9 17H7v-7h2v7zm4 0h-2V7h2v10zm4 0h-2v-4h2v4z\"/>\n",
              "    </g>\n",
              "</svg>\n",
              "      </button>\n",
              "\n",
              "<style>\n",
              "  .colab-df-quickchart {\n",
              "      --bg-color: #E8F0FE;\n",
              "      --fill-color: #1967D2;\n",
              "      --hover-bg-color: #E2EBFA;\n",
              "      --hover-fill-color: #174EA6;\n",
              "      --disabled-fill-color: #AAA;\n",
              "      --disabled-bg-color: #DDD;\n",
              "  }\n",
              "\n",
              "  [theme=dark] .colab-df-quickchart {\n",
              "      --bg-color: #3B4455;\n",
              "      --fill-color: #D2E3FC;\n",
              "      --hover-bg-color: #434B5C;\n",
              "      --hover-fill-color: #FFFFFF;\n",
              "      --disabled-bg-color: #3B4455;\n",
              "      --disabled-fill-color: #666;\n",
              "  }\n",
              "\n",
              "  .colab-df-quickchart {\n",
              "    background-color: var(--bg-color);\n",
              "    border: none;\n",
              "    border-radius: 50%;\n",
              "    cursor: pointer;\n",
              "    display: none;\n",
              "    fill: var(--fill-color);\n",
              "    height: 32px;\n",
              "    padding: 0;\n",
              "    width: 32px;\n",
              "  }\n",
              "\n",
              "  .colab-df-quickchart:hover {\n",
              "    background-color: var(--hover-bg-color);\n",
              "    box-shadow: 0 1px 2px rgba(60, 64, 67, 0.3), 0 1px 3px 1px rgba(60, 64, 67, 0.15);\n",
              "    fill: var(--button-hover-fill-color);\n",
              "  }\n",
              "\n",
              "  .colab-df-quickchart-complete:disabled,\n",
              "  .colab-df-quickchart-complete:disabled:hover {\n",
              "    background-color: var(--disabled-bg-color);\n",
              "    fill: var(--disabled-fill-color);\n",
              "    box-shadow: none;\n",
              "  }\n",
              "\n",
              "  .colab-df-spinner {\n",
              "    border: 2px solid var(--fill-color);\n",
              "    border-color: transparent;\n",
              "    border-bottom-color: var(--fill-color);\n",
              "    animation:\n",
              "      spin 1s steps(1) infinite;\n",
              "  }\n",
              "\n",
              "  @keyframes spin {\n",
              "    0% {\n",
              "      border-color: transparent;\n",
              "      border-bottom-color: var(--fill-color);\n",
              "      border-left-color: var(--fill-color);\n",
              "    }\n",
              "    20% {\n",
              "      border-color: transparent;\n",
              "      border-left-color: var(--fill-color);\n",
              "      border-top-color: var(--fill-color);\n",
              "    }\n",
              "    30% {\n",
              "      border-color: transparent;\n",
              "      border-left-color: var(--fill-color);\n",
              "      border-top-color: var(--fill-color);\n",
              "      border-right-color: var(--fill-color);\n",
              "    }\n",
              "    40% {\n",
              "      border-color: transparent;\n",
              "      border-right-color: var(--fill-color);\n",
              "      border-top-color: var(--fill-color);\n",
              "    }\n",
              "    60% {\n",
              "      border-color: transparent;\n",
              "      border-right-color: var(--fill-color);\n",
              "    }\n",
              "    80% {\n",
              "      border-color: transparent;\n",
              "      border-right-color: var(--fill-color);\n",
              "      border-bottom-color: var(--fill-color);\n",
              "    }\n",
              "    90% {\n",
              "      border-color: transparent;\n",
              "      border-bottom-color: var(--fill-color);\n",
              "    }\n",
              "  }\n",
              "</style>\n",
              "\n",
              "      <script>\n",
              "        async function quickchart(key) {\n",
              "          const quickchartButtonEl =\n",
              "            document.querySelector('#' + key + ' button');\n",
              "          quickchartButtonEl.disabled = true;  // To prevent multiple clicks.\n",
              "          quickchartButtonEl.classList.add('colab-df-spinner');\n",
              "          try {\n",
              "            const charts = await google.colab.kernel.invokeFunction(\n",
              "                'suggestCharts', [key], {});\n",
              "          } catch (error) {\n",
              "            console.error('Error during call to suggestCharts:', error);\n",
              "          }\n",
              "          quickchartButtonEl.classList.remove('colab-df-spinner');\n",
              "          quickchartButtonEl.classList.add('colab-df-quickchart-complete');\n",
              "        }\n",
              "        (() => {\n",
              "          let quickchartButtonEl =\n",
              "            document.querySelector('#df-1c0efea4-9394-4527-8e7c-194a9500df8a button');\n",
              "          quickchartButtonEl.style.display =\n",
              "            google.colab.kernel.accessAllowed ? 'block' : 'none';\n",
              "        })();\n",
              "      </script>\n",
              "    </div>\n",
              "\n",
              "  <div id=\"id_1a9feaad-6765-4e91-a38c-9b15108c944a\">\n",
              "    <style>\n",
              "      .colab-df-generate {\n",
              "        background-color: #E8F0FE;\n",
              "        border: none;\n",
              "        border-radius: 50%;\n",
              "        cursor: pointer;\n",
              "        display: none;\n",
              "        fill: #1967D2;\n",
              "        height: 32px;\n",
              "        padding: 0 0 0 0;\n",
              "        width: 32px;\n",
              "      }\n",
              "\n",
              "      .colab-df-generate:hover {\n",
              "        background-color: #E2EBFA;\n",
              "        box-shadow: 0px 1px 2px rgba(60, 64, 67, 0.3), 0px 1px 3px 1px rgba(60, 64, 67, 0.15);\n",
              "        fill: #174EA6;\n",
              "      }\n",
              "\n",
              "      [theme=dark] .colab-df-generate {\n",
              "        background-color: #3B4455;\n",
              "        fill: #D2E3FC;\n",
              "      }\n",
              "\n",
              "      [theme=dark] .colab-df-generate:hover {\n",
              "        background-color: #434B5C;\n",
              "        box-shadow: 0px 1px 3px 1px rgba(0, 0, 0, 0.15);\n",
              "        filter: drop-shadow(0px 1px 2px rgba(0, 0, 0, 0.3));\n",
              "        fill: #FFFFFF;\n",
              "      }\n",
              "    </style>\n",
              "    <button class=\"colab-df-generate\" onclick=\"generateWithVariable('historical_df')\"\n",
              "            title=\"Generate code using this dataframe.\"\n",
              "            style=\"display:none;\">\n",
              "\n",
              "  <svg xmlns=\"http://www.w3.org/2000/svg\" height=\"24px\"viewBox=\"0 0 24 24\"\n",
              "       width=\"24px\">\n",
              "    <path d=\"M7,19H8.4L18.45,9,17,7.55,7,17.6ZM5,21V16.75L18.45,3.32a2,2,0,0,1,2.83,0l1.4,1.43a1.91,1.91,0,0,1,.58,1.4,1.91,1.91,0,0,1-.58,1.4L9.25,21ZM18.45,9,17,7.55Zm-12,3A5.31,5.31,0,0,0,4.9,8.1,5.31,5.31,0,0,0,1,6.5,5.31,5.31,0,0,0,4.9,4.9,5.31,5.31,0,0,0,6.5,1,5.31,5.31,0,0,0,8.1,4.9,5.31,5.31,0,0,0,12,6.5,5.46,5.46,0,0,0,6.5,12Z\"/>\n",
              "  </svg>\n",
              "    </button>\n",
              "    <script>\n",
              "      (() => {\n",
              "      const buttonEl =\n",
              "        document.querySelector('#id_1a9feaad-6765-4e91-a38c-9b15108c944a button.colab-df-generate');\n",
              "      buttonEl.style.display =\n",
              "        google.colab.kernel.accessAllowed ? 'block' : 'none';\n",
              "\n",
              "      buttonEl.onclick = () => {\n",
              "        google.colab.notebook.generateWithVariable('historical_df');\n",
              "      }\n",
              "      })();\n",
              "    </script>\n",
              "  </div>\n",
              "\n",
              "    </div>\n",
              "  </div>\n"
            ],
            "application/vnd.google.colaboratory.intrinsic+json": {
              "type": "dataframe",
              "variable_name": "historical_df"
            }
          },
          "metadata": {}
        }
      ],
      "source": [
        "import numpy as np\n",
        "\n",
        "\n",
        "name_changes={\n",
        "    \"NC State\": \"N.C. State\",\n",
        "    \"Indiana St\": \"Indiana St.\",\n",
        "    \"San Diego St\": \"San Diego St.\",\n",
        "    \"Mississippi St\": \"Mississippi St.\",\n",
        "    \"North Carolina St\": \"North Carolina St.\",\n",
        "    \"Penn St\": \"Penn St.\",\n",
        "    \"Ohio St\": \"Ohio St.\",\n",
        "    \"Ohio State\": \"Ohio St.\",\n",
        "    \"Iowa St\": \"Iowa St.\",\n",
        "    \"Boise St\": \"Boise St.\",\n",
        "    \"Fresno St\": \"Fresno St.\",\n",
        "    \"Arizona St\": \"Arizona St.\",\n",
        "    \"Texas AM\": \"Texas A&M\",\n",
        "    \"Utah St\": \"Utah St.\",\n",
        "    \"Texas St\": \"Texas St.\",\n",
        "    \"Michigan St\": \"Michigan St.\",\n",
        "    \"Washington St\": \"Washington St.\",\n",
        "    \"Kansas St\": \"Kansas St.\",\n",
        "    \"Miami Florida\": \"Miami FL\",\n",
        "    \"Texas Christian\": \"TCU\",\n",
        "    \"Northwestern St\": \"Northwestern St.\",\n",
        "    \"McNeese St\": \"McNeese St.\",\n",
        "    \"Morehead St\": \"Morehead St.\",\n",
        "    \"Wisconsin St\": \"Wisconsin St.\",\n",
        "    \"South Dakota State\": \"South Dakota St.\",\n",
        "    \"Colorado St\": \"Colorado St.\",\n",
        "    \"Long Beach St\": \"Long Beach St.\",\n",
        "    \"Brigham Young\": \"BYU\",\n",
        "    \"Florida St\": \"Florida St.\",\n",
        "    \"Louisiana State\": \"LSU\",\n",
        "    \"Southern California\": \"USC\",\n",
        "    \"Central Florida\": \"UCF\",\n",
        "    \"Louisiana Tech\": \"UT\",\n",
        "    \"Missouri St\": \"Missouri St.\",\n",
        "    \"Alabama St\": \"Alabama St.\",\n",
        "    \"Oklahoma St\": \"Oklahoma St.\",\n",
        "    \"Citadel\": \"The Citadel\",\n",
        "    \"Arkansas St\": \"Arkansas St.\",\n",
        "    \"Murray St\": \"Murray St.\",\n",
        "    \"Southern Methodist\": \"SMU\",\n",
        "    \"St Johns\": \"St. John's\",\n",
        "    \"San Jose St\": \"San Jose St.\",\n",
        "    \"Pennsylvania\": \"Penn\",\n",
        "    \"St Bonaventure\": \"St. Bonaventure\",\n",
        "    \"Oregon St\": \"Oregon St.\",\n",
        "    \"Wichita St\": \"Wichita St.\",\n",
        "}\n",
        "\n",
        "temp_hc_ad_df['Team']=temp_hc_ad_df['Team'].replace(name_changes)\n",
        "historical_df = historical_df.merge(temp_hc_ad_df[['Team','True Advantage']], on='Team', how='left')\n",
        "nan_rows = historical_df[historical_df['True Advantage'].isna()]\n",
        "historical_df.dropna(subset=['True Advantage'],inplace=True)\n",
        "#temp_hc_ad_df['Team']=temp_hc_ad_df['Team'].replace(name_changes)\n",
        "current_df = current_df.merge(temp_hc_ad_df[['Team','True Advantage']], on='Team', how='left')\n",
        "nan_rows = current_df[current_df['True Advantage'].isna()]\n",
        "current_df.dropna(subset=['True Advantage'],inplace=True)\n",
        "historical_df[\"hca\"]=historical_df[\"True Advantage\"]\n",
        "current_df[\"hca\"]=current_df[\"True Advantage\"]\n",
        "# historical_df.drop(columns=['True Advantage'],inplace=True)\n",
        "# current_df.drop(columns=['True Advantage'],inplace=True)\n",
        "display(historical_df)"
      ]
    },
    {
      "cell_type": "markdown",
      "metadata": {
        "id": "BqttH-dn1xns"
      },
      "source": [
        "Now we have a set of duplicated columns with the first relating to offense statistics and the latter being defensive so let us show reflect this into our dataframe for later use. Additionally, we updated the true advantage column to show 0 unless the venue is Home \"H\"."
      ]
    },
    {
      "cell_type": "code",
      "execution_count": null,
      "metadata": {
        "colab": {
          "base_uri": "https://localhost:8080/",
          "height": 104
        },
        "id": "WQQ_h1TugCJ0",
        "outputId": "ae78eb3d-1d6f-4e05-c157-d94d72198edd"
      },
      "outputs": [
        {
          "output_type": "display_data",
          "data": {
            "text/plain": [
              "Index(['Rk', 'Date', 'Type', 'Team', 'Conf.', 'Opp.', 'Venue', 'Result',\n",
              "       'Adj. O', 'Adj. D', 'T', 'EFF_O', 'eFG%_O', 'TO%_O', 'Reb%_O', 'FTR_O',\n",
              "       'EFF_D', 'eFG%_D', 'TO%_D', 'Reb%_D', 'FTR_D', 'G-Sc', '+/-',\n",
              "       'True Advantage', 'hca'],\n",
              "      dtype='object')"
            ]
          },
          "metadata": {}
        }
      ],
      "source": [
        "historical_df.columns=['Rk', 'Date', 'Type', 'Team', 'Conf.', 'Opp.', 'Venue', 'Result',\n",
        "       'Adj. O', 'Adj. D', 'T', 'EFF_O', 'eFG%_O', 'TO%_O', 'Reb%_O', 'FTR_O', 'EFF_D',\n",
        "       'eFG%_D', 'TO%_D', 'Reb%_D', 'FTR_D', 'G-Sc', '+/-', 'True Advantage','hca']\n",
        "\n",
        "historical_df.loc[historical_df['Venue'].str.upper() != 'H', 'True Advantage'] = 0\n",
        "current_df.columns=['Rk', 'Date', 'Type', 'Team', 'Conf.', 'Opp.', 'Venue', 'Result',\n",
        "       'Adj. O', 'Adj. D', 'T', 'EFF_O', 'eFG%_O', 'TO%_O', 'Reb%_O', 'FTR_O', 'EFF_D',\n",
        "       'eFG%_D', 'TO%_D', 'Reb%_D', 'FTR_D', 'G-Sc', '+/-', 'True Advantage','hca']\n",
        "\n",
        "current_df.loc[current_df['Venue'].str.upper() != 'H', 'True Advantage'] = 0\n",
        "\n",
        "display(historical_df.columns)"
      ]
    },
    {
      "cell_type": "markdown",
      "metadata": {
        "id": "LzXjWr2syJhg"
      },
      "source": [
        "Now lets make a score column so the team can have a score instead of just a scorebox."
      ]
    },
    {
      "cell_type": "code",
      "execution_count": null,
      "metadata": {
        "colab": {
          "base_uri": "https://localhost:8080/",
          "height": 738
        },
        "id": "nI74-DrLyC9D",
        "outputId": "c5af36c7-2880-4d0a-a53e-4ad5714a2585"
      },
      "outputs": [
        {
          "output_type": "display_data",
          "data": {
            "text/plain": [
              "       Rk      Date Type                Team Conf.         Opp. Venue  \\\n",
              "0       1    4/8/24    T         Connecticut    BE       Purdue     N   \n",
              "1       2    4/8/24    T              Purdue   B10  Connecticut     N   \n",
              "2       3    4/6/24    T             Alabama   SEC  Connecticut     N   \n",
              "3       4    4/6/24    T         Connecticut    BE      Alabama     N   \n",
              "4       5    4/6/24    T          N.C. State   ACC       Purdue     N   \n",
              "...   ...       ...  ...                 ...   ...          ...   ...   \n",
              "9846   96   2/23/23    C  Eastern Washington  BSky    Weber St.     A   \n",
              "9847   97    2/8/23    C             Alabama   SEC      Florida     H   \n",
              "9848   98  11/26/22    N           Boise St.   MWC  Utah Valley     H   \n",
              "9849   99    2/2/23    C             Arizona   P12       Oregon     H   \n",
              "9850  100  12/10/22    N             Arizona   P12      Indiana     N   \n",
              "\n",
              "        Result Adj. O Adj. D  ... FTR_D  G-Sc +/- True Advantage   hca  \\\n",
              "0     W, 75-60    135   83.5  ...  27.8  99.6   7           0.00  3.86   \n",
              "1     L, 75-60  115.3   99.6  ...  17.7  84.3  -7           0.00  4.54   \n",
              "2     L, 86-72  136.3  109.8  ...    29  92.3  -4           0.00  4.86   \n",
              "3     W, 86-72  137.2   98.7  ...    19  97.8   4           0.00  3.86   \n",
              "4     L, 63-50     87   81.8  ...  18.2  66.9  -8           0.00  2.75   \n",
              "...        ...    ...    ...  ...   ...   ...  ..            ...   ...   \n",
              "9846  W, 89-82  137.8  129.2  ...  40.7  67.7   2           0.00  3.94   \n",
              "9847  W, 97-69  137.8   90.9  ...  49.2  99.2  18           4.86  4.86   \n",
              "9848  W, 87-69  137.8   99.3  ...  35.7  97.7  11           3.59  3.59   \n",
              "9849  W, 91-76  137.7   99.7  ...  28.6  97.6  11           3.51  3.51   \n",
              "9850  W, 89-75  137.5   99.3  ...    13  97.7   9           0.00  3.51   \n",
              "\n",
              "     Won/Loss Score Range Score Opp_Score Spread  \n",
              "0           W       75-60    75        60     15  \n",
              "1           L       75-60    60        75    -15  \n",
              "2           L       86-72    72        86    -14  \n",
              "3           W       86-72    86        72     14  \n",
              "4           L       63-50    50        63    -13  \n",
              "...       ...         ...   ...       ...    ...  \n",
              "9846        W       89-82    89        82      7  \n",
              "9847        W       97-69    97        69     28  \n",
              "9848        W       87-69    87        69     18  \n",
              "9849        W       91-76    91        76     15  \n",
              "9850        W       89-75    89        75     14  \n",
              "\n",
              "[7651 rows x 30 columns]"
            ],
            "text/html": [
              "\n",
              "  <div id=\"df-a3a4e4af-c4bb-4300-a643-157834e3fa04\" class=\"colab-df-container\">\n",
              "    <div>\n",
              "<style scoped>\n",
              "    .dataframe tbody tr th:only-of-type {\n",
              "        vertical-align: middle;\n",
              "    }\n",
              "\n",
              "    .dataframe tbody tr th {\n",
              "        vertical-align: top;\n",
              "    }\n",
              "\n",
              "    .dataframe thead th {\n",
              "        text-align: right;\n",
              "    }\n",
              "</style>\n",
              "<table border=\"1\" class=\"dataframe\">\n",
              "  <thead>\n",
              "    <tr style=\"text-align: right;\">\n",
              "      <th></th>\n",
              "      <th>Rk</th>\n",
              "      <th>Date</th>\n",
              "      <th>Type</th>\n",
              "      <th>Team</th>\n",
              "      <th>Conf.</th>\n",
              "      <th>Opp.</th>\n",
              "      <th>Venue</th>\n",
              "      <th>Result</th>\n",
              "      <th>Adj. O</th>\n",
              "      <th>Adj. D</th>\n",
              "      <th>...</th>\n",
              "      <th>FTR_D</th>\n",
              "      <th>G-Sc</th>\n",
              "      <th>+/-</th>\n",
              "      <th>True Advantage</th>\n",
              "      <th>hca</th>\n",
              "      <th>Won/Loss</th>\n",
              "      <th>Score Range</th>\n",
              "      <th>Score</th>\n",
              "      <th>Opp_Score</th>\n",
              "      <th>Spread</th>\n",
              "    </tr>\n",
              "  </thead>\n",
              "  <tbody>\n",
              "    <tr>\n",
              "      <th>0</th>\n",
              "      <td>1</td>\n",
              "      <td>4/8/24</td>\n",
              "      <td>T</td>\n",
              "      <td>Connecticut</td>\n",
              "      <td>BE</td>\n",
              "      <td>Purdue</td>\n",
              "      <td>N</td>\n",
              "      <td>W, 75-60</td>\n",
              "      <td>135</td>\n",
              "      <td>83.5</td>\n",
              "      <td>...</td>\n",
              "      <td>27.8</td>\n",
              "      <td>99.6</td>\n",
              "      <td>7</td>\n",
              "      <td>0.00</td>\n",
              "      <td>3.86</td>\n",
              "      <td>W</td>\n",
              "      <td>75-60</td>\n",
              "      <td>75</td>\n",
              "      <td>60</td>\n",
              "      <td>15</td>\n",
              "    </tr>\n",
              "    <tr>\n",
              "      <th>1</th>\n",
              "      <td>2</td>\n",
              "      <td>4/8/24</td>\n",
              "      <td>T</td>\n",
              "      <td>Purdue</td>\n",
              "      <td>B10</td>\n",
              "      <td>Connecticut</td>\n",
              "      <td>N</td>\n",
              "      <td>L, 75-60</td>\n",
              "      <td>115.3</td>\n",
              "      <td>99.6</td>\n",
              "      <td>...</td>\n",
              "      <td>17.7</td>\n",
              "      <td>84.3</td>\n",
              "      <td>-7</td>\n",
              "      <td>0.00</td>\n",
              "      <td>4.54</td>\n",
              "      <td>L</td>\n",
              "      <td>75-60</td>\n",
              "      <td>60</td>\n",
              "      <td>75</td>\n",
              "      <td>-15</td>\n",
              "    </tr>\n",
              "    <tr>\n",
              "      <th>2</th>\n",
              "      <td>3</td>\n",
              "      <td>4/6/24</td>\n",
              "      <td>T</td>\n",
              "      <td>Alabama</td>\n",
              "      <td>SEC</td>\n",
              "      <td>Connecticut</td>\n",
              "      <td>N</td>\n",
              "      <td>L, 86-72</td>\n",
              "      <td>136.3</td>\n",
              "      <td>109.8</td>\n",
              "      <td>...</td>\n",
              "      <td>29</td>\n",
              "      <td>92.3</td>\n",
              "      <td>-4</td>\n",
              "      <td>0.00</td>\n",
              "      <td>4.86</td>\n",
              "      <td>L</td>\n",
              "      <td>86-72</td>\n",
              "      <td>72</td>\n",
              "      <td>86</td>\n",
              "      <td>-14</td>\n",
              "    </tr>\n",
              "    <tr>\n",
              "      <th>3</th>\n",
              "      <td>4</td>\n",
              "      <td>4/6/24</td>\n",
              "      <td>T</td>\n",
              "      <td>Connecticut</td>\n",
              "      <td>BE</td>\n",
              "      <td>Alabama</td>\n",
              "      <td>N</td>\n",
              "      <td>W, 86-72</td>\n",
              "      <td>137.2</td>\n",
              "      <td>98.7</td>\n",
              "      <td>...</td>\n",
              "      <td>19</td>\n",
              "      <td>97.8</td>\n",
              "      <td>4</td>\n",
              "      <td>0.00</td>\n",
              "      <td>3.86</td>\n",
              "      <td>W</td>\n",
              "      <td>86-72</td>\n",
              "      <td>86</td>\n",
              "      <td>72</td>\n",
              "      <td>14</td>\n",
              "    </tr>\n",
              "    <tr>\n",
              "      <th>4</th>\n",
              "      <td>5</td>\n",
              "      <td>4/6/24</td>\n",
              "      <td>T</td>\n",
              "      <td>N.C. State</td>\n",
              "      <td>ACC</td>\n",
              "      <td>Purdue</td>\n",
              "      <td>N</td>\n",
              "      <td>L, 63-50</td>\n",
              "      <td>87</td>\n",
              "      <td>81.8</td>\n",
              "      <td>...</td>\n",
              "      <td>18.2</td>\n",
              "      <td>66.9</td>\n",
              "      <td>-8</td>\n",
              "      <td>0.00</td>\n",
              "      <td>2.75</td>\n",
              "      <td>L</td>\n",
              "      <td>63-50</td>\n",
              "      <td>50</td>\n",
              "      <td>63</td>\n",
              "      <td>-13</td>\n",
              "    </tr>\n",
              "    <tr>\n",
              "      <th>...</th>\n",
              "      <td>...</td>\n",
              "      <td>...</td>\n",
              "      <td>...</td>\n",
              "      <td>...</td>\n",
              "      <td>...</td>\n",
              "      <td>...</td>\n",
              "      <td>...</td>\n",
              "      <td>...</td>\n",
              "      <td>...</td>\n",
              "      <td>...</td>\n",
              "      <td>...</td>\n",
              "      <td>...</td>\n",
              "      <td>...</td>\n",
              "      <td>...</td>\n",
              "      <td>...</td>\n",
              "      <td>...</td>\n",
              "      <td>...</td>\n",
              "      <td>...</td>\n",
              "      <td>...</td>\n",
              "      <td>...</td>\n",
              "      <td>...</td>\n",
              "    </tr>\n",
              "    <tr>\n",
              "      <th>9846</th>\n",
              "      <td>96</td>\n",
              "      <td>2/23/23</td>\n",
              "      <td>C</td>\n",
              "      <td>Eastern Washington</td>\n",
              "      <td>BSky</td>\n",
              "      <td>Weber St.</td>\n",
              "      <td>A</td>\n",
              "      <td>W, 89-82</td>\n",
              "      <td>137.8</td>\n",
              "      <td>129.2</td>\n",
              "      <td>...</td>\n",
              "      <td>40.7</td>\n",
              "      <td>67.7</td>\n",
              "      <td>2</td>\n",
              "      <td>0.00</td>\n",
              "      <td>3.94</td>\n",
              "      <td>W</td>\n",
              "      <td>89-82</td>\n",
              "      <td>89</td>\n",
              "      <td>82</td>\n",
              "      <td>7</td>\n",
              "    </tr>\n",
              "    <tr>\n",
              "      <th>9847</th>\n",
              "      <td>97</td>\n",
              "      <td>2/8/23</td>\n",
              "      <td>C</td>\n",
              "      <td>Alabama</td>\n",
              "      <td>SEC</td>\n",
              "      <td>Florida</td>\n",
              "      <td>H</td>\n",
              "      <td>W, 97-69</td>\n",
              "      <td>137.8</td>\n",
              "      <td>90.9</td>\n",
              "      <td>...</td>\n",
              "      <td>49.2</td>\n",
              "      <td>99.2</td>\n",
              "      <td>18</td>\n",
              "      <td>4.86</td>\n",
              "      <td>4.86</td>\n",
              "      <td>W</td>\n",
              "      <td>97-69</td>\n",
              "      <td>97</td>\n",
              "      <td>69</td>\n",
              "      <td>28</td>\n",
              "    </tr>\n",
              "    <tr>\n",
              "      <th>9848</th>\n",
              "      <td>98</td>\n",
              "      <td>11/26/22</td>\n",
              "      <td>N</td>\n",
              "      <td>Boise St.</td>\n",
              "      <td>MWC</td>\n",
              "      <td>Utah Valley</td>\n",
              "      <td>H</td>\n",
              "      <td>W, 87-69</td>\n",
              "      <td>137.8</td>\n",
              "      <td>99.3</td>\n",
              "      <td>...</td>\n",
              "      <td>35.7</td>\n",
              "      <td>97.7</td>\n",
              "      <td>11</td>\n",
              "      <td>3.59</td>\n",
              "      <td>3.59</td>\n",
              "      <td>W</td>\n",
              "      <td>87-69</td>\n",
              "      <td>87</td>\n",
              "      <td>69</td>\n",
              "      <td>18</td>\n",
              "    </tr>\n",
              "    <tr>\n",
              "      <th>9849</th>\n",
              "      <td>99</td>\n",
              "      <td>2/2/23</td>\n",
              "      <td>C</td>\n",
              "      <td>Arizona</td>\n",
              "      <td>P12</td>\n",
              "      <td>Oregon</td>\n",
              "      <td>H</td>\n",
              "      <td>W, 91-76</td>\n",
              "      <td>137.7</td>\n",
              "      <td>99.7</td>\n",
              "      <td>...</td>\n",
              "      <td>28.6</td>\n",
              "      <td>97.6</td>\n",
              "      <td>11</td>\n",
              "      <td>3.51</td>\n",
              "      <td>3.51</td>\n",
              "      <td>W</td>\n",
              "      <td>91-76</td>\n",
              "      <td>91</td>\n",
              "      <td>76</td>\n",
              "      <td>15</td>\n",
              "    </tr>\n",
              "    <tr>\n",
              "      <th>9850</th>\n",
              "      <td>100</td>\n",
              "      <td>12/10/22</td>\n",
              "      <td>N</td>\n",
              "      <td>Arizona</td>\n",
              "      <td>P12</td>\n",
              "      <td>Indiana</td>\n",
              "      <td>N</td>\n",
              "      <td>W, 89-75</td>\n",
              "      <td>137.5</td>\n",
              "      <td>99.3</td>\n",
              "      <td>...</td>\n",
              "      <td>13</td>\n",
              "      <td>97.7</td>\n",
              "      <td>9</td>\n",
              "      <td>0.00</td>\n",
              "      <td>3.51</td>\n",
              "      <td>W</td>\n",
              "      <td>89-75</td>\n",
              "      <td>89</td>\n",
              "      <td>75</td>\n",
              "      <td>14</td>\n",
              "    </tr>\n",
              "  </tbody>\n",
              "</table>\n",
              "<p>7651 rows × 30 columns</p>\n",
              "</div>\n",
              "    <div class=\"colab-df-buttons\">\n",
              "\n",
              "  <div class=\"colab-df-container\">\n",
              "    <button class=\"colab-df-convert\" onclick=\"convertToInteractive('df-a3a4e4af-c4bb-4300-a643-157834e3fa04')\"\n",
              "            title=\"Convert this dataframe to an interactive table.\"\n",
              "            style=\"display:none;\">\n",
              "\n",
              "  <svg xmlns=\"http://www.w3.org/2000/svg\" height=\"24px\" viewBox=\"0 -960 960 960\">\n",
              "    <path d=\"M120-120v-720h720v720H120Zm60-500h600v-160H180v160Zm220 220h160v-160H400v160Zm0 220h160v-160H400v160ZM180-400h160v-160H180v160Zm440 0h160v-160H620v160ZM180-180h160v-160H180v160Zm440 0h160v-160H620v160Z\"/>\n",
              "  </svg>\n",
              "    </button>\n",
              "\n",
              "  <style>\n",
              "    .colab-df-container {\n",
              "      display:flex;\n",
              "      gap: 12px;\n",
              "    }\n",
              "\n",
              "    .colab-df-convert {\n",
              "      background-color: #E8F0FE;\n",
              "      border: none;\n",
              "      border-radius: 50%;\n",
              "      cursor: pointer;\n",
              "      display: none;\n",
              "      fill: #1967D2;\n",
              "      height: 32px;\n",
              "      padding: 0 0 0 0;\n",
              "      width: 32px;\n",
              "    }\n",
              "\n",
              "    .colab-df-convert:hover {\n",
              "      background-color: #E2EBFA;\n",
              "      box-shadow: 0px 1px 2px rgba(60, 64, 67, 0.3), 0px 1px 3px 1px rgba(60, 64, 67, 0.15);\n",
              "      fill: #174EA6;\n",
              "    }\n",
              "\n",
              "    .colab-df-buttons div {\n",
              "      margin-bottom: 4px;\n",
              "    }\n",
              "\n",
              "    [theme=dark] .colab-df-convert {\n",
              "      background-color: #3B4455;\n",
              "      fill: #D2E3FC;\n",
              "    }\n",
              "\n",
              "    [theme=dark] .colab-df-convert:hover {\n",
              "      background-color: #434B5C;\n",
              "      box-shadow: 0px 1px 3px 1px rgba(0, 0, 0, 0.15);\n",
              "      filter: drop-shadow(0px 1px 2px rgba(0, 0, 0, 0.3));\n",
              "      fill: #FFFFFF;\n",
              "    }\n",
              "  </style>\n",
              "\n",
              "    <script>\n",
              "      const buttonEl =\n",
              "        document.querySelector('#df-a3a4e4af-c4bb-4300-a643-157834e3fa04 button.colab-df-convert');\n",
              "      buttonEl.style.display =\n",
              "        google.colab.kernel.accessAllowed ? 'block' : 'none';\n",
              "\n",
              "      async function convertToInteractive(key) {\n",
              "        const element = document.querySelector('#df-a3a4e4af-c4bb-4300-a643-157834e3fa04');\n",
              "        const dataTable =\n",
              "          await google.colab.kernel.invokeFunction('convertToInteractive',\n",
              "                                                    [key], {});\n",
              "        if (!dataTable) return;\n",
              "\n",
              "        const docLinkHtml = 'Like what you see? Visit the ' +\n",
              "          '<a target=\"_blank\" href=https://colab.research.google.com/notebooks/data_table.ipynb>data table notebook</a>'\n",
              "          + ' to learn more about interactive tables.';\n",
              "        element.innerHTML = '';\n",
              "        dataTable['output_type'] = 'display_data';\n",
              "        await google.colab.output.renderOutput(dataTable, element);\n",
              "        const docLink = document.createElement('div');\n",
              "        docLink.innerHTML = docLinkHtml;\n",
              "        element.appendChild(docLink);\n",
              "      }\n",
              "    </script>\n",
              "  </div>\n",
              "\n",
              "\n",
              "    <div id=\"df-27533ef9-7d1e-4804-98c5-62d167e816f0\">\n",
              "      <button class=\"colab-df-quickchart\" onclick=\"quickchart('df-27533ef9-7d1e-4804-98c5-62d167e816f0')\"\n",
              "                title=\"Suggest charts\"\n",
              "                style=\"display:none;\">\n",
              "\n",
              "<svg xmlns=\"http://www.w3.org/2000/svg\" height=\"24px\"viewBox=\"0 0 24 24\"\n",
              "     width=\"24px\">\n",
              "    <g>\n",
              "        <path d=\"M19 3H5c-1.1 0-2 .9-2 2v14c0 1.1.9 2 2 2h14c1.1 0 2-.9 2-2V5c0-1.1-.9-2-2-2zM9 17H7v-7h2v7zm4 0h-2V7h2v10zm4 0h-2v-4h2v4z\"/>\n",
              "    </g>\n",
              "</svg>\n",
              "      </button>\n",
              "\n",
              "<style>\n",
              "  .colab-df-quickchart {\n",
              "      --bg-color: #E8F0FE;\n",
              "      --fill-color: #1967D2;\n",
              "      --hover-bg-color: #E2EBFA;\n",
              "      --hover-fill-color: #174EA6;\n",
              "      --disabled-fill-color: #AAA;\n",
              "      --disabled-bg-color: #DDD;\n",
              "  }\n",
              "\n",
              "  [theme=dark] .colab-df-quickchart {\n",
              "      --bg-color: #3B4455;\n",
              "      --fill-color: #D2E3FC;\n",
              "      --hover-bg-color: #434B5C;\n",
              "      --hover-fill-color: #FFFFFF;\n",
              "      --disabled-bg-color: #3B4455;\n",
              "      --disabled-fill-color: #666;\n",
              "  }\n",
              "\n",
              "  .colab-df-quickchart {\n",
              "    background-color: var(--bg-color);\n",
              "    border: none;\n",
              "    border-radius: 50%;\n",
              "    cursor: pointer;\n",
              "    display: none;\n",
              "    fill: var(--fill-color);\n",
              "    height: 32px;\n",
              "    padding: 0;\n",
              "    width: 32px;\n",
              "  }\n",
              "\n",
              "  .colab-df-quickchart:hover {\n",
              "    background-color: var(--hover-bg-color);\n",
              "    box-shadow: 0 1px 2px rgba(60, 64, 67, 0.3), 0 1px 3px 1px rgba(60, 64, 67, 0.15);\n",
              "    fill: var(--button-hover-fill-color);\n",
              "  }\n",
              "\n",
              "  .colab-df-quickchart-complete:disabled,\n",
              "  .colab-df-quickchart-complete:disabled:hover {\n",
              "    background-color: var(--disabled-bg-color);\n",
              "    fill: var(--disabled-fill-color);\n",
              "    box-shadow: none;\n",
              "  }\n",
              "\n",
              "  .colab-df-spinner {\n",
              "    border: 2px solid var(--fill-color);\n",
              "    border-color: transparent;\n",
              "    border-bottom-color: var(--fill-color);\n",
              "    animation:\n",
              "      spin 1s steps(1) infinite;\n",
              "  }\n",
              "\n",
              "  @keyframes spin {\n",
              "    0% {\n",
              "      border-color: transparent;\n",
              "      border-bottom-color: var(--fill-color);\n",
              "      border-left-color: var(--fill-color);\n",
              "    }\n",
              "    20% {\n",
              "      border-color: transparent;\n",
              "      border-left-color: var(--fill-color);\n",
              "      border-top-color: var(--fill-color);\n",
              "    }\n",
              "    30% {\n",
              "      border-color: transparent;\n",
              "      border-left-color: var(--fill-color);\n",
              "      border-top-color: var(--fill-color);\n",
              "      border-right-color: var(--fill-color);\n",
              "    }\n",
              "    40% {\n",
              "      border-color: transparent;\n",
              "      border-right-color: var(--fill-color);\n",
              "      border-top-color: var(--fill-color);\n",
              "    }\n",
              "    60% {\n",
              "      border-color: transparent;\n",
              "      border-right-color: var(--fill-color);\n",
              "    }\n",
              "    80% {\n",
              "      border-color: transparent;\n",
              "      border-right-color: var(--fill-color);\n",
              "      border-bottom-color: var(--fill-color);\n",
              "    }\n",
              "    90% {\n",
              "      border-color: transparent;\n",
              "      border-bottom-color: var(--fill-color);\n",
              "    }\n",
              "  }\n",
              "</style>\n",
              "\n",
              "      <script>\n",
              "        async function quickchart(key) {\n",
              "          const quickchartButtonEl =\n",
              "            document.querySelector('#' + key + ' button');\n",
              "          quickchartButtonEl.disabled = true;  // To prevent multiple clicks.\n",
              "          quickchartButtonEl.classList.add('colab-df-spinner');\n",
              "          try {\n",
              "            const charts = await google.colab.kernel.invokeFunction(\n",
              "                'suggestCharts', [key], {});\n",
              "          } catch (error) {\n",
              "            console.error('Error during call to suggestCharts:', error);\n",
              "          }\n",
              "          quickchartButtonEl.classList.remove('colab-df-spinner');\n",
              "          quickchartButtonEl.classList.add('colab-df-quickchart-complete');\n",
              "        }\n",
              "        (() => {\n",
              "          let quickchartButtonEl =\n",
              "            document.querySelector('#df-27533ef9-7d1e-4804-98c5-62d167e816f0 button');\n",
              "          quickchartButtonEl.style.display =\n",
              "            google.colab.kernel.accessAllowed ? 'block' : 'none';\n",
              "        })();\n",
              "      </script>\n",
              "    </div>\n",
              "\n",
              "  <div id=\"id_7ab6e978-36fc-40aa-b392-3f197f38b308\">\n",
              "    <style>\n",
              "      .colab-df-generate {\n",
              "        background-color: #E8F0FE;\n",
              "        border: none;\n",
              "        border-radius: 50%;\n",
              "        cursor: pointer;\n",
              "        display: none;\n",
              "        fill: #1967D2;\n",
              "        height: 32px;\n",
              "        padding: 0 0 0 0;\n",
              "        width: 32px;\n",
              "      }\n",
              "\n",
              "      .colab-df-generate:hover {\n",
              "        background-color: #E2EBFA;\n",
              "        box-shadow: 0px 1px 2px rgba(60, 64, 67, 0.3), 0px 1px 3px 1px rgba(60, 64, 67, 0.15);\n",
              "        fill: #174EA6;\n",
              "      }\n",
              "\n",
              "      [theme=dark] .colab-df-generate {\n",
              "        background-color: #3B4455;\n",
              "        fill: #D2E3FC;\n",
              "      }\n",
              "\n",
              "      [theme=dark] .colab-df-generate:hover {\n",
              "        background-color: #434B5C;\n",
              "        box-shadow: 0px 1px 3px 1px rgba(0, 0, 0, 0.15);\n",
              "        filter: drop-shadow(0px 1px 2px rgba(0, 0, 0, 0.3));\n",
              "        fill: #FFFFFF;\n",
              "      }\n",
              "    </style>\n",
              "    <button class=\"colab-df-generate\" onclick=\"generateWithVariable('historical_df')\"\n",
              "            title=\"Generate code using this dataframe.\"\n",
              "            style=\"display:none;\">\n",
              "\n",
              "  <svg xmlns=\"http://www.w3.org/2000/svg\" height=\"24px\"viewBox=\"0 0 24 24\"\n",
              "       width=\"24px\">\n",
              "    <path d=\"M7,19H8.4L18.45,9,17,7.55,7,17.6ZM5,21V16.75L18.45,3.32a2,2,0,0,1,2.83,0l1.4,1.43a1.91,1.91,0,0,1,.58,1.4,1.91,1.91,0,0,1-.58,1.4L9.25,21ZM18.45,9,17,7.55Zm-12,3A5.31,5.31,0,0,0,4.9,8.1,5.31,5.31,0,0,0,1,6.5,5.31,5.31,0,0,0,4.9,4.9,5.31,5.31,0,0,0,6.5,1,5.31,5.31,0,0,0,8.1,4.9,5.31,5.31,0,0,0,12,6.5,5.46,5.46,0,0,0,6.5,12Z\"/>\n",
              "  </svg>\n",
              "    </button>\n",
              "    <script>\n",
              "      (() => {\n",
              "      const buttonEl =\n",
              "        document.querySelector('#id_7ab6e978-36fc-40aa-b392-3f197f38b308 button.colab-df-generate');\n",
              "      buttonEl.style.display =\n",
              "        google.colab.kernel.accessAllowed ? 'block' : 'none';\n",
              "\n",
              "      buttonEl.onclick = () => {\n",
              "        google.colab.notebook.generateWithVariable('historical_df');\n",
              "      }\n",
              "      })();\n",
              "    </script>\n",
              "  </div>\n",
              "\n",
              "    </div>\n",
              "  </div>\n"
            ],
            "application/vnd.google.colaboratory.intrinsic+json": {
              "type": "dataframe",
              "variable_name": "historical_df"
            }
          },
          "metadata": {}
        },
        {
          "output_type": "display_data",
          "data": {
            "text/plain": [
              "Index(['Rk', 'Date', 'Type', 'Team', 'Conf.', 'Opp.', 'Venue', 'Result',\n",
              "       'Adj. O', 'Adj. D', 'T', 'EFF_O', 'eFG%_O', 'TO%_O', 'Reb%_O', 'FTR_O',\n",
              "       'EFF_D', 'eFG%_D', 'TO%_D', 'Reb%_D', 'FTR_D', 'G-Sc', '+/-',\n",
              "       'True Advantage', 'hca', 'Won/Loss', 'Score Range', 'Score',\n",
              "       'Opp_Score', 'Spread'],\n",
              "      dtype='object')"
            ]
          },
          "metadata": {}
        }
      ],
      "source": [
        "historical_df['Won/Loss']=historical_df['Result'].str[0]\n",
        "temp=historical_df[\"Result\"].str.split(', ', expand=True)\n",
        "historical_df[\"Score Range\"]=temp[1]\n",
        "temp2=historical_df[\"Score Range\"].str.split('-', expand=True).astype(int)\n",
        "\n",
        "def score_fun(row):\n",
        "  (s1,s2)=row['Score Range'].split('-')\n",
        "  (s1,s2)=int(s1),int(s2)\n",
        "  if row['Won/Loss']=='W':\n",
        "    return max(s1,s2)\n",
        "  else:\n",
        "    return min(s1,s2)\n",
        "def opp_score_fun(row):\n",
        "  (s1,s2)=row['Score Range'].split('-')\n",
        "  (s1,s2)=int(s1),int(s2)\n",
        "  if row['Won/Loss']=='W':\n",
        "    return min(s1,s2)\n",
        "  else:\n",
        "    return max(s1,s2)\n",
        "historical_df['Score']=historical_df.apply(score_fun,axis=1)\n",
        "historical_df['Opp_Score']=historical_df.apply(opp_score_fun,axis=1)\n",
        "\n",
        "current_df['Won/Loss']=current_df['Result'].str[0]\n",
        "temp=current_df[\"Result\"].str.split(', ', expand=True)\n",
        "current_df[\"Score Range\"]=temp[1]\n",
        "temp2=current_df[\"Score Range\"].str.split('-', expand=True).astype(int)\n",
        "\n",
        "def score_fun(row):\n",
        "  (s1,s2)=row['Score Range'].split('-')\n",
        "  (s1,s2)=int(s1),int(s2)\n",
        "  if row['Won/Loss']=='W':\n",
        "    return max(s1,s2)\n",
        "  else:\n",
        "    return min(s1,s2)\n",
        "def opp_score_fun(row):\n",
        "  (s1,s2)=row['Score Range'].split('-')\n",
        "  (s1,s2)=int(s1),int(s2)\n",
        "  if row['Won/Loss']=='W':\n",
        "    return min(s1,s2)\n",
        "  else:\n",
        "    return max(s1,s2)\n",
        "current_df['Score']=current_df.apply(score_fun,axis=1)\n",
        "historical_df['Opp_Score']=historical_df.apply(opp_score_fun,axis=1)\n",
        "current_df['Opp_Score']=current_df.apply(opp_score_fun,axis=1)\n",
        "current_df['Spread']=current_df['Score']-current_df['Opp_Score']\n",
        "historical_df['Spread']=historical_df['Score']-historical_df['Opp_Score']\n",
        "display(historical_df)\n",
        "display(historical_df.columns)\n",
        "historical_df.to_csv(\"Cleaned_Historicals.csv\",index=False)\n",
        "current_df.to_csv(\"Cleaned_2025.csv\",index=False)"
      ]
    },
    {
      "cell_type": "markdown",
      "metadata": {
        "id": "TCNopDsQTgOL"
      },
      "source": [
        "#Statistical Methods/Data Visualization\n",
        "\n",
        "\n"
      ]
    },
    {
      "cell_type": "markdown",
      "metadata": {
        "id": "LJ4YM6M-1vzs"
      },
      "source": [
        "**Statistical Test 1-**"
      ]
    },
    {
      "cell_type": "markdown",
      "metadata": {
        "id": "dGyalbsBVXpU"
      },
      "source": [
        "The first thing we wanted to see was if effective field goal percentage being above the mean lead to a higher winning percent. We will do this by running two one sample T-Tests comparing the mean of eFG% overall to the eFG% to those in winning games and in losing games.\\\n",
        "**H0:** There is no impact on field goal percentage on winning college basketball games.\\\n",
        "**HA:** There is as statistical impact on field goal percentage on winning college basketball games.\\\n",
        "**α:** 0.05"
      ]
    },
    {
      "cell_type": "code",
      "execution_count": null,
      "metadata": {
        "colab": {
          "base_uri": "https://localhost:8080/",
          "height": 507
        },
        "id": "7P6iF3EyT45I",
        "outputId": "2ce54e51-0d07-4e13-9a20-e189d0b210ff"
      },
      "outputs": [
        {
          "output_type": "stream",
          "name": "stdout",
          "text": [
            "Statistic: 39.04868766995234, P-Value: 4.549618124663104e-272\n",
            "Statistic: -34.487801790181244, P-Value: 1.3710566826868078e-231\n"
          ]
        },
        {
          "output_type": "display_data",
          "data": {
            "text/plain": [
              "<Figure size 640x480 with 1 Axes>"
            ],
            "image/png": "[encoded data removed]"
          },
          "metadata": {}
        }
      ],
      "source": [
        "\n",
        "subset_df=historical_df.sample(n=300,random_state=17)\n",
        "historical_df['eFG%_O'] = pd.to_numeric(historical_df['eFG%_O'], errors='coerce')\n",
        "mean_fg=historical_df['eFG%_O'].mean()\n",
        "won_df = historical_df[historical_df['Won/Loss'] == 'W']\n",
        "lost_df = historical_df[historical_df['Won/Loss'] == 'L']\n",
        "won_df.dropna(subset=['eFG%_O'])\n",
        "lost_df.dropna(subset=['eFG%_O'])\n",
        "results=stats.ttest_1samp(won_df['eFG%_O'], mean_fg)\n",
        "results2=stats.ttest_1samp(lost_df['eFG%_O'], mean_fg)\n",
        "print(f'Statistic: {results[0]}, P-Value: {results[1]}')\n",
        "print(f'Statistic: {results2[0]}, P-Value: {results2[1]}')\n",
        "sns.boxplot(x='Won/Loss', y='eFG%_O', data=historical_df,hue='Won/Loss', palette={'W': 'green', 'L': 'red'}, legend=False)\n",
        "plt.title('eFG% by Results')\n",
        "plt.xlabel('Result')\n",
        "plt.ylabel('eFG%')\n",
        "\n",
        "plt.show()\n",
        "#display(new_historical_df)"
      ]
    },
    {
      "cell_type": "markdown",
      "metadata": {
        "id": "PDfhCbeDkq30"
      },
      "source": [
        "As we can see from this T-Test there is a clear correlation between Offensive effective field goal percentage and the chance of a team winning a game which we can use later in our model to predict whether or not a team will win a game based on their average field goal percentage. Our results also show a P-Value of near 0 showing there is a extremely high correlation between the two. We used the single sample because when using the independent two-sample the p-value was so low it rounded to 0 so we went with 2 single sample instead.\n",
        "Doing this we know we can reject the null hypothesis and accept the alternative."
      ]
    },
    {
      "cell_type": "markdown",
      "metadata": {
        "id": "_fFCnRV61t_8"
      },
      "source": [
        "**Statistical Test 2-**"
      ]
    },
    {
      "cell_type": "markdown",
      "metadata": {
        "id": "ujSXG-y413eb"
      },
      "source": [
        "Now we will run a chi-square test to see if being home neutral or away really impacts win and losses of games. We have the true advantage according to other data but we should compare with a chi square to see if there is a actual large impact where it is important to factor into our project.\\\n",
        "**H0:** There will be no impact on winning or losing games based on where the games are played.\\\n",
        "**HA:** There will be a statistically signficant impact on winning or losing games based on where the games are played.\\\n",
        "**α:** 0.05"
      ]
    },
    {
      "cell_type": "code",
      "execution_count": null,
      "metadata": {
        "colab": {
          "base_uri": "https://localhost:8080/",
          "height": 553
        },
        "id": "9qJiQRKF1rAy",
        "outputId": "769112c5-3129-450c-bdfa-392aa1c315b5"
      },
      "outputs": [
        {
          "output_type": "stream",
          "name": "stdout",
          "text": [
            "Venue       A    H    N\n",
            "Won/Loss               \n",
            "L         368  100  131\n",
            "W         115  189   97\n",
            "Chi-Square Statistic: 130.9313209679015\n",
            "P-Value: 3.703607011976282e-29\n"
          ]
        },
        {
          "output_type": "display_data",
          "data": {
            "text/plain": [
              "<Figure size 640x480 with 1 Axes>"
            ],
            "image/png": "[encoded data removed]"
          },
          "metadata": {}
        }
      ],
      "source": [
        "subset_df=historical_df.sample(n=1000,random_state=17)\n",
        "contingency_table=pd.crosstab(subset_df['Won/Loss'],subset_df['Venue'])\n",
        "print(contingency_table)\n",
        "chi_results=stats.chi2_contingency(contingency_table)\n",
        "print(f'Chi-Square Statistic: {chi_results[0]}')\n",
        "print(f'P-Value: {chi_results[1]}')\n",
        "ax=contingency_table.plot(kind='bar')\n",
        "ax.set_ylabel('Games At Venues')\n",
        "plt.show()\n"
      ]
    },
    {
      "cell_type": "markdown",
      "metadata": {
        "id": "tiFG7dUecsG9"
      },
      "source": [
        "From this we can see there is a statistical difference between winning games and the venue these games are held in. However as we can see through our chi squared bar graph there is a significantly higher could of away losses overall than any other game in our data set. This could be skewing our results and is something we definetly should account for moving forward. However due to our low p-value we reject the H0 and ac"
      ]
    },
    {
      "cell_type": "markdown",
      "metadata": {
        "id": "XKt5nxMbSsca"
      },
      "source": [
        "**Statistical Test 3-**"
      ]
    },
    {
      "cell_type": "markdown",
      "metadata": {
        "id": "YVRDKwzJj62m"
      },
      "source": [
        "Now we will see if having a higher adjusted offensive efficiency or AdjO will lead to a higher score and vice versa with a 2 sample T test.\\\n",
        "**H0:** A higher adjusted offensive efficiency has no impact on having a higher score.\\\n",
        "**HA:** A higher adjusted offensive efficiency has a statistical impact on having a higher score.\\\n",
        "**α=**0.05\n"
      ]
    },
    {
      "cell_type": "code",
      "execution_count": null,
      "metadata": {
        "colab": {
          "base_uri": "https://localhost:8080/",
          "height": 484
        },
        "id": "gHq5ArLQ9Mjc",
        "outputId": "729a4894-034f-4080-e57e-a111a54c2f64"
      },
      "outputs": [
        {
          "output_type": "stream",
          "name": "stdout",
          "text": [
            "Statistic: 13.621963602415581, P-Value: 3.512026207977888e-33\n"
          ]
        },
        {
          "output_type": "execute_result",
          "data": {
            "text/plain": [
              "<Axes: xlabel='Adj. O', ylabel='Score'>"
            ]
          },
          "metadata": {},
          "execution_count": 105
        },
        {
          "output_type": "display_data",
          "data": {
            "text/plain": [
              "<Figure size 640x480 with 1 Axes>"
            ],
            "image/png": "[encoded data removed]"
          },
          "metadata": {}
        }
      ],
      "source": [
        "subset_df=historical_df.sample(n=300,random_state=17)\n",
        "subset_df['Adj. O'] = pd.to_numeric(subset_df['Adj. O'], errors='coerce')\n",
        "mean_adjO=subset_df['Adj. O'].mean()\n",
        "high_adjO=subset_df[subset_df['Adj. O']>mean_adjO]\n",
        "low_adjO=subset_df[subset_df['Adj. O']<mean_adjO]\n",
        "results=stats.ttest_ind(high_adjO['Score'],low_adjO['Score'])\n",
        "print(f'Statistic: {results[0]}, P-Value: {results[1]}')\n",
        "sns.scatterplot(x='Adj. O', y='Score', data=subset_df,hue='Adj. O', legend=False, palette='viridis')\n"
      ]
    },
    {
      "cell_type": "markdown",
      "metadata": {
        "id": "UXlPFt70EJpe"
      },
      "source": [
        "From the graph and from out p-value we reject the HO and we can say that adjusted offensive efficiency has a statistical impact on having a higher or lower score. So overall we can see generally a higher adjO leads to a higher score."
      ]
    },
    {
      "cell_type": "markdown",
      "metadata": {
        "id": "lfRFtPaPLU6Z"
      },
      "source": [
        "# ML Models"
      ]
    },
    {
      "cell_type": "markdown",
      "source": [
        "Make new DFs based on matchups and add some features that we can run through our model. Many of the features we added are based on the \"Four Factors\" of predicting a basketball game. These features have been heavily researched by sports analytics professionals and have been found to be the most predictive features for the outcome of a basketball game. The four factors are efg%, tov%, ft/fga, and orb%. Since we have a classification task (win/loss) and a regression task (spread) we will need multiple models that can help complete these tasks. We will run classification on Logistic Regression, Random Forest, and Gradient Boosting, and use Random Forest and Gradient Boosting for regression tasks."
      ],
      "metadata": {
        "id": "4t-30DR8KIaz"
      }
    },
    {
      "cell_type": "code",
      "source": [
        "def create_matchup_features(df):\n",
        "    team_stats = {}\n",
        "    for team in df['Team'].unique():\n",
        "        team_data = df[df['Team'] == team]\n",
        "        team_stats[team] = {\n",
        "            'Avg_Adj_O': team_data['Adj. O'].mean(),\n",
        "            'Avg_Adj_D': team_data['Adj. D'].mean(),\n",
        "            'Avg_T': team_data['T'].mean(),\n",
        "            'Avg_eFG_O': team_data['eFG%_O'].mean(),\n",
        "            'Avg_TO_O': team_data['TO%_O'].mean(),\n",
        "            'Avg_Reb_O': team_data['Reb%_O'].mean(),\n",
        "            'Avg_FTR_O': team_data['FTR_O'].mean(),\n",
        "            'Avg_eFG_D': team_data['eFG%_D'].mean(),\n",
        "            'Avg_TO_D': team_data['TO%_D'].mean(),\n",
        "            'Avg_Reb_D': team_data['Reb%_D'].mean(),\n",
        "            'Avg_FTR_D': team_data['FTR_D'].mean(),\n",
        "        }\n",
        "    matchup_df = df.copy()\n",
        "    opp_columns = [\n",
        "        'Opp_Avg_Adj_O', 'Opp_Avg_Adj_D', 'Opp_Avg_T',\n",
        "        'Opp_Avg_eFG_O', 'Opp_Avg_TO_O', 'Opp_Avg_Reb_O', 'Opp_Avg_FTR_O',\n",
        "        'Opp_Avg_eFG_D', 'Opp_Avg_TO_D', 'Opp_Avg_Reb_D', 'Opp_Avg_FTR_D'\n",
        "    ]\n",
        "\n",
        "    team_stats_df = pd.DataFrame.from_dict(team_stats, orient='index').reset_index()\n",
        "    team_stats_df.rename(columns={'index': 'Opp.'}, inplace=True)\n",
        "    team_stats_df = team_stats_df.rename(columns=lambda x: f\"Opp_{x}\" if x != 'Opp.' else x)\n",
        "    matchup_df = matchup_df.merge(team_stats_df, how='left', on='Opp.')\n",
        "    # display(matchup_df)\n",
        "    # display(team_stats_df)\n",
        "    matchup_df.fillna(0, inplace=True)\n",
        "    matchup_df['Offense_vs_Defense'] = matchup_df['Adj. O'] - matchup_df['Opp_Avg_Adj_D']\n",
        "    matchup_df['Defense_vs_Offense'] = matchup_df['Adj. D'] - matchup_df['Opp_Avg_Adj_O']\n",
        "    matchup_df['Tempo_Differential'] = matchup_df['T'] - matchup_df['Opp_Avg_T']\n",
        "    matchup_df['eFG_Advantage_O'] = matchup_df['eFG%_O'] - matchup_df['Opp_Avg_eFG_D']\n",
        "    matchup_df['TO_Advantage_O'] = matchup_df['Opp_Avg_TO_D'] - matchup_df['TO%_O']\n",
        "    matchup_df['Reb_Advantage_O'] = matchup_df['Reb%_O'] - matchup_df['Opp_Avg_Reb_D']\n",
        "    matchup_df['FTR_Advantage_O'] = matchup_df['FTR_O'] - matchup_df['Opp_Avg_FTR_D']\n",
        "\n",
        "    matchup_df['eFG_Advantage_D'] = matchup_df['Opp_Avg_eFG_O'] - matchup_df['eFG%_D']\n",
        "    matchup_df['TO_Advantage_D'] = matchup_df['TO%_D'] - matchup_df['Opp_Avg_TO_O']\n",
        "    matchup_df['Reb_Advantage_D'] = matchup_df['Opp_Avg_Reb_O'] - matchup_df['Reb%_D']\n",
        "    matchup_df['FTR_Advantage_D'] = matchup_df['Opp_Avg_FTR_O'] - matchup_df['FTR_D']\n",
        "    matchup_df['True Advantage'] = matchup_df['True Advantage'].astype(float)\n",
        "    return matchup_df"
      ],
      "metadata": {
        "id": "oAJoiXe2KMyd"
      },
      "execution_count": null,
      "outputs": []
    },
    {
      "cell_type": "markdown",
      "source": [
        "Splitting and Scaling"
      ],
      "metadata": {
        "id": "LZ93domKD68B"
      }
    },
    {
      "cell_type": "code",
      "source": [
        "historical_data = pd.read_csv('Cleaned_Historicals.csv')\n",
        "current_data = pd.read_csv('Cleaned_2025.csv')\n",
        "numeric_cols = [\n",
        "    'Adj. O', 'Adj. D', 'T',\n",
        "    'eFG%_O', 'TO%_O', 'Reb%_O', 'FTR_O',\n",
        "    'eFG%_D', 'TO%_D', 'Reb%_D', 'FTR_D', 'hca'\n",
        "]\n",
        "for col in numeric_cols:\n",
        "    historical_data[col] = pd.to_numeric(historical_data[col], errors='coerce')\n",
        "    current_data[col] = pd.to_numeric(current_data[col], errors='coerce')\n",
        "historical_matchups = create_matchup_features(historical_data)\n",
        "current_matchups = create_matchup_features(current_data)\n",
        "all_features =  [\n",
        "    'Adj. O', 'Adj. D', 'T',\n",
        "    'eFG%_O', 'TO%_O', 'Reb%_O', 'FTR_O',\n",
        "    'eFG%_D', 'TO%_D', 'Reb%_D', 'FTR_D',\n",
        "    'hca',  'Offense_vs_Defense', 'Defense_vs_Offense', 'Tempo_Differential',\n",
        "    'eFG_Advantage_O', 'TO_Advantage_O', 'Reb_Advantage_O', 'FTR_Advantage_O',\n",
        "    'eFG_Advantage_D', 'TO_Advantage_D', 'Reb_Advantage_D', 'FTR_Advantage_D','True Advantage'\n",
        "]\n",
        "# all_features.remove('Won/Loss')\n",
        "X_train = historical_matchups[all_features].copy()\n",
        "# print('xtrain')\n",
        "# display(X_train)\n",
        "y_train_winner = (historical_matchups['Won/Loss'] == 'W').astype(int)\n",
        "y_train_spread = historical_matchups['Spread']\n",
        "y_train_team_score = historical_matchups['Score']\n",
        "y_train_opp_score = historical_matchups['Opp_Score']\n",
        "X_test = current_matchups[all_features].copy()\n",
        "y_test_winner = (current_matchups['Won/Loss'] == 'W').astype(int)\n",
        "y_test_spread = current_matchups['Spread']\n",
        "y_test_team_score = current_matchups['Score']\n",
        "y_test_opp_score = current_matchups['Opp_Score']\n",
        "scaler = StandardScaler()\n",
        "X_train_scaled = scaler.fit_transform(X_train)\n",
        "X_test_scaled = scaler.transform(X_test)\n"
      ],
      "metadata": {
        "id": "u3coiRzSD6DB"
      },
      "execution_count": null,
      "outputs": []
    },
    {
      "cell_type": "markdown",
      "metadata": {
        "id": "1fYmff0gW7iE"
      },
      "source": [
        "**Logistic Regression**\n",
        "\n",
        "Logistic regression was used to predict the winner of a given matchup. We chose logistic regression because it is a good model for classification tasks, in this case deciding the if a team will Win or Lose a given matchup."
      ]
    },
    {
      "cell_type": "code",
      "execution_count": null,
      "metadata": {
        "id": "VbyoN04TW-gL"
      },
      "outputs": [],
      "source": [
        "def train_logistic_regression():\n",
        "    print(\"\\n=== Training Logistic Regression Model for Win Prediction ===\")\n",
        "\n",
        "    model = LogisticRegression(max_iter=1000)\n",
        "    model.fit(X_train_scaled, y_train_winner)\n",
        "\n",
        "    train_preds = model.predict(X_train_scaled)\n",
        "    test_preds = model.predict(X_test_scaled)\n",
        "\n",
        "    train_accuracy = accuracy_score(y_train_winner, train_preds)\n",
        "    test_accuracy = accuracy_score(y_test_winner, test_preds)\n",
        "\n",
        "    train_report = classification_report(y_train_winner, train_preds)\n",
        "    test_report = classification_report(y_test_winner, test_preds)\n",
        "    print(f\"Training accuracy: {train_accuracy}\")\n",
        "    print(f\"Testing accuracy: {test_accuracy}\")\n",
        "    print(f\"Classification Report: {train_report}\")\n",
        "    print(f\"Classification Report: {test_report}\")\n",
        "    cm = confusion_matrix(y_test_winner, test_preds)\n",
        "    return model, train_accuracy, test_accuracy, cm"
      ]
    },
    {
      "cell_type": "markdown",
      "source": [
        "**Plotting for Logistic Regression**\n",
        "\n",
        "We plotted a confusion matrix and feature importance for our logistic regression model."
      ],
      "metadata": {
        "id": "lpytZBxhSyZl"
      }
    },
    {
      "cell_type": "code",
      "source": [
        "def plot_log_reg(model, cm):\n",
        "    #Plot confusion matrix\n",
        "    plt.figure(figsize=(8, 6))\n",
        "    sns.heatmap(cm, annot=True, fmt= 'd', cmap='Blues',\n",
        "                xticklabels=['Loss', 'Win'],\n",
        "                yticklabels=['Loss', 'Win'])\n",
        "    plt.xlabel('Predicted')\n",
        "    plt.ylabel('Actual')\n",
        "    plt.title('Logistic Regression Confusion Matrix')\n",
        "    #Plot importance\n",
        "    coefficients = pd.DataFrame({\n",
        "        'Feature': all_features,\n",
        "        'Coefficient': model.coef_[0]\n",
        "    }).sort_values('Coefficient', ascending=False)\n",
        "    plt.figure(figsize=(12, 8))\n",
        "    sns.barplot(x='Coefficient', y='Feature', data=coefficients)\n",
        "    plt.title('Logistic Regression Feature Coefficients')\n",
        "    plt.tight_layout()\n",
        "    plt.plot()"
      ],
      "metadata": {
        "id": "ej_vvOb3Sxun"
      },
      "execution_count": null,
      "outputs": []
    },
    {
      "cell_type": "markdown",
      "source": [
        "We will try using Random Forest and Gradient Boost for predicting the spread as well as predicting the winner."
      ],
      "metadata": {
        "id": "RePqx-eusyUP"
      }
    },
    {
      "cell_type": "markdown",
      "metadata": {
        "id": "_E_E4uowluHZ"
      },
      "source": [
        "**Random Forest**\n",
        "\n",
        "We output the accuracy, classification report, r2 score, and MAE for both training and testing data."
      ]
    },
    {
      "cell_type": "code",
      "execution_count": null,
      "metadata": {
        "id": "eA8hLMeGl6dV"
      },
      "outputs": [],
      "source": [
        "def train_random_forest():\n",
        "    print(\"\\n=== Training Random Forest Models ===\")\n",
        "\n",
        "    model = RandomForestClassifier(n_estimators=1000, max_depth=8)\n",
        "    model.fit(X_train_scaled, y_train_winner)\n",
        "\n",
        "    rf_regressor = RandomForestRegressor(n_estimators=1000, max_depth=8,min_samples_leaf=5)\n",
        "    rf_regressor.fit(X_train_scaled, y_train_spread)\n",
        "\n",
        "    train_win_preds = model.predict(X_train_scaled)\n",
        "    test_win_preds = model.predict(X_test_scaled)\n",
        "\n",
        "    train_spread_preds = rf_regressor.predict(X_train_scaled)\n",
        "    test_spread_preds = rf_regressor.predict(X_test_scaled)\n",
        "\n",
        "    train_win_accuracy = accuracy_score(y_train_winner, train_win_preds)\n",
        "    test_win_accuracy = accuracy_score(y_test_winner, test_win_preds)\n",
        "\n",
        "    train_report = classification_report(y_train_winner, train_win_preds)\n",
        "    test_report = classification_report(y_test_winner, test_win_preds)\n",
        "    print(f\"Random Forest Win Prediction:\")\n",
        "    print(f\"Training accuracy: {train_win_accuracy}\")\n",
        "    print(f\"Testing accuracy: {test_win_accuracy}\")\n",
        "    print(f\"Classification Report: {train_report}\")\n",
        "    print(f\"Classification Report: {test_report}\")\n",
        "    train_spread_mae = mean_absolute_error(y_train_spread, train_spread_preds)\n",
        "    test_spread_mae = mean_absolute_error(y_test_spread, test_spread_preds)\n",
        "    train_spread_r2 = r2_score(y_train_spread, train_spread_preds)\n",
        "    test_spread_r2 = r2_score(y_test_spread, test_spread_preds)\n",
        "    print(f\"Random Forest Spread Prediction:\")\n",
        "    print(f\"Training MAE: {train_spread_mae}\")\n",
        "    print(f\"Testing MAE: {test_spread_mae:}\")\n",
        "    print(f\"Training R2: {train_spread_r2}\")\n",
        "    print(f\"Testing R2: {test_spread_r2:}\")\n",
        "    cm = confusion_matrix(y_test_winner, test_win_preds)\n",
        "    return model, rf_regressor, train_win_accuracy, test_win_accuracy, train_spread_mae, test_spread_mae, cm\n"
      ]
    },
    {
      "cell_type": "markdown",
      "source": [
        "Plotting Random Forest"
      ],
      "metadata": {
        "id": "DNC-ltn1TKhT"
      }
    },
    {
      "cell_type": "code",
      "source": [
        "def plot_rf(cm, model):\n",
        "    plt.figure(figsize=(8, 6))\n",
        "    sns.heatmap(cm,annot=True,fmt= 'd', cmap='Greens',\n",
        "                xticklabels=['Loss', 'Win'],\n",
        "                yticklabels=['Loss', 'Win'])\n",
        "    plt.xlabel('Predicted')\n",
        "    plt.ylabel('Actual')\n",
        "    plt.title('Random Forest Win Prediction Confusion Matrix')\n",
        "    win_importance = pd.DataFrame({\n",
        "        'Feature': all_features,\n",
        "        'Importance': model.feature_importances_\n",
        "    }).sort_values('Importance', ascending=False)\n",
        "\n",
        "    plt.figure(figsize=(12, 8))\n",
        "    sns.barplot(x='Importance', y='Feature', data=win_importance.head(15), palette='Greens' , hue='Importance')\n",
        "    plt.title('Random Forest Win Prediction - Feature Importance')\n",
        "\n",
        "    plt.plot()\n"
      ],
      "metadata": {
        "id": "SZtWoyH2T5kN"
      },
      "execution_count": null,
      "outputs": []
    },
    {
      "cell_type": "markdown",
      "source": [
        "**Gradient Boost Model**\n",
        "\n",
        "We output the accuracy, classification report, r2 score, and MAE for both training and testing data."
      ],
      "metadata": {
        "id": "OoIEk2TFAPs7"
      }
    },
    {
      "cell_type": "code",
      "source": [
        "def train_grad_boost():\n",
        "    print(\"\\n=== Training Gradient Boost Models ===\")\n",
        "\n",
        "    model = GradientBoostingClassifier()\n",
        "    model.fit(X_train_scaled, y_train_winner)\n",
        "\n",
        "    gb_regressor = GradientBoostingRegressor()\n",
        "    gb_regressor.fit(X_train_scaled, y_train_spread)\n",
        "\n",
        "    train_win_preds = model.predict(X_train_scaled)\n",
        "    test_win_preds = model.predict(X_test_scaled)\n",
        "\n",
        "    train_spread_preds = gb_regressor.predict(X_train_scaled)\n",
        "    test_spread_preds = gb_regressor.predict(X_test_scaled)\n",
        "\n",
        "    train_win_accuracy = accuracy_score(y_train_winner, train_win_preds)\n",
        "    test_win_accuracy = accuracy_score(y_test_winner, test_win_preds)\n",
        "\n",
        "    train_report = classification_report(y_train_winner, train_win_preds)\n",
        "    test_report = classification_report(y_test_winner, test_win_preds)\n",
        "    print(f\"Gradient Boost Win Prediction:\")\n",
        "    print(f\"Training accuracy: {train_win_accuracy}\")\n",
        "    print(f\"Testing accuracy: {test_win_accuracy}\")\n",
        "    print(f\"Classification Report: {train_report}\")\n",
        "    print(f\"Classification Report: {test_report}\")\n",
        "    train_spread_mae = mean_absolute_error(y_train_spread, train_spread_preds)\n",
        "    test_spread_mae = mean_absolute_error(y_test_spread, test_spread_preds)\n",
        "    train_spread_r2 = r2_score(y_train_spread, train_spread_preds)\n",
        "    test_spread_r2 = r2_score(y_test_spread, test_spread_preds)\n",
        "    print(f\"Random Forest Spread Prediction:\")\n",
        "    print(f\"Training MAE: {train_spread_mae}\")\n",
        "    print(f\"Testing MAE: {test_spread_mae:}\")\n",
        "    print(f\"Training R2: {train_spread_r2}\")\n",
        "    print(f\"Testing R2: {test_spread_r2:}\")\n",
        "    cm = confusion_matrix(y_test_winner, test_win_preds)\n",
        "    return model, gb_regressor, train_win_accuracy, test_win_accuracy,train_spread_mae, test_spread_mae, cm, train_spread_r2, test_spread_r2\n"
      ],
      "metadata": {
        "id": "yE0BfP6RAPY9"
      },
      "execution_count": null,
      "outputs": []
    },
    {
      "cell_type": "code",
      "source": [
        "def plot_gb(cm, model):\n",
        "    plt.figure(figsize=(8, 6))\n",
        "    sns.heatmap(cm, annot=True, fmt= 'd',cmap='Reds',\n",
        "                xticklabels=['Loss', 'Win'],\n",
        "                yticklabels=['Loss', 'Win'])\n",
        "    plt.xlabel('Predicted')\n",
        "    plt.ylabel('Actual')\n",
        "    plt.title('Gradient Boost Win Prediction Confusion Matrix')\n",
        "    win_importance = pd.DataFrame({\n",
        "        'Feature': all_features,\n",
        "        'Importance': model.feature_importances_\n",
        "    }).sort_values('Importance', ascending=False)\n",
        "\n",
        "    plt.figure(figsize=(12, 8))\n",
        "    sns.barplot(x='Importance', y='Feature', data=win_importance.head(15), palette='Reds', hue='Importance')\n",
        "    plt.title('Random Forest Win Prediction - Feature Importance')\n",
        "\n",
        "    plt.plot()"
      ],
      "metadata": {
        "id": "G14UtvrmNBDK"
      },
      "execution_count": null,
      "outputs": []
    },
    {
      "cell_type": "markdown",
      "source": [
        "Function to compare the training and testing accuracy of Random Forest and Gradient Boost."
      ],
      "metadata": {
        "id": "43KNzoXp_jJI"
      }
    },
    {
      "cell_type": "code",
      "source": [
        "def compare_models(log_acc, log_tacc ,rf_acc, rf_tacc, gb_acc, gb_tacc, rf_MAE, gb_MAE, rf_tMAE, gb_tMAE):\n",
        "    plt.figure(figsize=(8, 6))\n",
        "    width = 0.35\n",
        "    x = np.arange(3)\n",
        "\n",
        "    plt.bar(x - width/2, [log_acc,rf_acc, gb_acc], width, label='Training Accuracy')\n",
        "    plt.bar(x + width/2, [log_tacc,rf_tacc, gb_tacc], width, label='Testing Accuracy')\n",
        "\n",
        "    plt.ylabel('Accuracy')\n",
        "    plt.title('Classification Model Accuracy Comparison')\n",
        "    plt.xticks(x, ['Logistic Regression','Random Forest', 'Gradient Boost'])\n",
        "    plt.legend()\n",
        "    plt.plot()\n",
        "    x = np.arange(2)\n",
        "\n",
        "    plt.figure(figsize=(8, 6))\n",
        "    plt.bar(x - width/2, [rf_MAE, gb_MAE], width, label='Training MAE')\n",
        "    plt.bar(x + width/2, [rf_tMAE, gb_tMAE], width, label='Testing MAE')\n",
        "    plt.ylabel('Mean Squared Error')\n",
        "    plt.title('Regression Model Accuracy Comparison')\n",
        "    plt.xticks(x, ['Random Forest', 'Gradient Boost'])\n",
        "    plt.legend()\n",
        "    plt.plot()\n",
        "    plt.show()"
      ],
      "metadata": {
        "id": "0Xb_WRrT4lzr"
      },
      "execution_count": null,
      "outputs": []
    },
    {
      "cell_type": "markdown",
      "source": [
        "After training and testing our 3 models, we determined that Logistic Regression was the best predictor of the winner of a matchup based on the higher testing accuracy and classification reports, and determined that Gradient Boost was the best regression model for the spread, with the lowest MAE and highest accuracy."
      ],
      "metadata": {
        "id": "RSOXoBhz8iQh"
      }
    },
    {
      "cell_type": "markdown",
      "metadata": {
        "id": "iY4S4LxBmQbH"
      },
      "source": [
        "Train Models"
      ]
    },
    {
      "cell_type": "code",
      "execution_count": null,
      "metadata": {
        "colab": {
          "base_uri": "https://localhost:8080/",
          "height": 1000
        },
        "id": "1GAixFr_mWA0",
        "outputId": "6724a35e-d9ff-429b-cca1-07660e96f1f8"
      },
      "outputs": [
        {
          "output_type": "stream",
          "name": "stdout",
          "text": [
            "\n",
            "=== Training Logistic Regression Model for Win Prediction ===\n",
            "Training accuracy: 0.9725526075022873\n",
            "Testing accuracy: 0.9651300236406619\n",
            "Classification Report:               precision    recall  f1-score   support\n",
            "\n",
            "           0       0.98      0.98      0.98      4520\n",
            "           1       0.97      0.96      0.97      3131\n",
            "\n",
            "    accuracy                           0.97      7651\n",
            "   macro avg       0.97      0.97      0.97      7651\n",
            "weighted avg       0.97      0.97      0.97      7651\n",
            "\n",
            "Classification Report:               precision    recall  f1-score   support\n",
            "\n",
            "           0       0.98      0.97      0.98      1206\n",
            "           1       0.92      0.96      0.94       486\n",
            "\n",
            "    accuracy                           0.97      1692\n",
            "   macro avg       0.95      0.96      0.96      1692\n",
            "weighted avg       0.97      0.97      0.97      1692\n",
            "\n",
            "\n",
            "=== Training Random Forest Models ===\n",
            "Random Forest Win Prediction:\n",
            "Training accuracy: 0.9803947196444909\n",
            "Testing accuracy: 0.8959810874704491\n",
            "Classification Report:               precision    recall  f1-score   support\n",
            "\n",
            "           0       0.97      1.00      0.98      4520\n",
            "           1       1.00      0.96      0.98      3131\n",
            "\n",
            "    accuracy                           0.98      7651\n",
            "   macro avg       0.98      0.98      0.98      7651\n",
            "weighted avg       0.98      0.98      0.98      7651\n",
            "\n",
            "Classification Report:               precision    recall  f1-score   support\n",
            "\n",
            "           0       0.96      0.89      0.92      1206\n",
            "           1       0.77      0.90      0.83       486\n",
            "\n",
            "    accuracy                           0.90      1692\n",
            "   macro avg       0.87      0.90      0.88      1692\n",
            "weighted avg       0.90      0.90      0.90      1692\n",
            "\n",
            "Random Forest Spread Prediction:\n",
            "Training MAE: 3.1500894392983145\n",
            "Testing MAE: 5.0676285678589545\n",
            "Training R2: 0.9356662507530042\n",
            "Testing R2: 0.8070872815010525\n",
            "\n",
            "=== Training Gradient Boost Models ===\n",
            "Gradient Boost Win Prediction:\n",
            "Training accuracy: 0.97843419160894\n",
            "Testing accuracy: 0.9113475177304965\n",
            "Classification Report:               precision    recall  f1-score   support\n",
            "\n",
            "           0       0.97      0.99      0.98      4520\n",
            "           1       0.98      0.96      0.97      3131\n",
            "\n",
            "    accuracy                           0.98      7651\n",
            "   macro avg       0.98      0.98      0.98      7651\n",
            "weighted avg       0.98      0.98      0.98      7651\n",
            "\n",
            "Classification Report:               precision    recall  f1-score   support\n",
            "\n",
            "           0       0.97      0.91      0.94      1206\n",
            "           1       0.80      0.92      0.86       486\n",
            "\n",
            "    accuracy                           0.91      1692\n",
            "   macro avg       0.88      0.91      0.90      1692\n",
            "weighted avg       0.92      0.91      0.91      1692\n",
            "\n",
            "Random Forest Spread Prediction:\n",
            "Training MAE: 2.6929421303233743\n",
            "Testing MAE: 3.6131852257339787\n",
            "Training R2: 0.9550737007334755\n",
            "Testing R2: 0.9041844403004147\n"
          ]
        },
        {
          "output_type": "display_data",
          "data": {
            "text/plain": [
              "<Figure size 800x600 with 2 Axes>"
            ],
            "image/png": "[encoded data removed]"
          },
          "metadata": {}
        },
        {
          "output_type": "display_data",
          "data": {
            "text/plain": [
              "<Figure size 1200x800 with 1 Axes>"
            ],
            "image/png": "[encoded data removed]"
          },
          "metadata": {}
        },
        {
          "output_type": "display_data",
          "data": {
            "text/plain": [
              "<Figure size 800x600 with 2 Axes>"
            ],
            "image/png": "[encoded data removed]"
          },
          "metadata": {}
        },
        {
          "output_type": "display_data",
          "data": {
            "text/plain": [
              "<Figure size 1200x800 with 1 Axes>"
            ],
            "image/png": "[encoded data removed]"
          },
          "metadata": {}
        },
        {
          "output_type": "display_data",
          "data": {
            "text/plain": [
              "<Figure size 800x600 with 2 Axes>"
            ],
            "image/png": "[encoded data removed]"
          },
          "metadata": {}
        },
        {
          "output_type": "display_data",
          "data": {
            "text/plain": [
              "<Figure size 1200x800 with 1 Axes>"
            ],
            "image/png": "[encoded data removed]"
          },
          "metadata": {}
        },
        {
          "output_type": "display_data",
          "data": {
            "text/plain": [
              "<Figure size 800x600 with 1 Axes>"
            ],
            "image/png": "[encoded data removed]"
          },
          "metadata": {}
        },
        {
          "output_type": "display_data",
          "data": {
            "text/plain": [
              "<Figure size 800x600 with 1 Axes>"
            ],
            "image/png": "[encoded data removed]"
          },
          "metadata": {}
        }
      ],
      "source": [
        "def train_models():\n",
        "    # Train all models\n",
        "    log_result = train_logistic_regression()\n",
        "    plot_log_reg(log_result[0],log_result[3])\n",
        "    rf_results = train_random_forest()\n",
        "    gb_results = train_grad_boost()\n",
        "    plot_rf(rf_results[6],rf_results[0])\n",
        "    plot_gb(gb_results[6],gb_results[0])\n",
        "    compare_models(log_result[1],log_result[2],rf_results[2], rf_results[3], gb_results[2], gb_results[3],rf_results[4], gb_results[4], rf_results[5], gb_results[5])\n",
        "    return (log_result[0], rf_results[0], gb_results[0], gb_results[1])\n",
        "\n",
        "(log_model, rf_model, gb_model, gb_reg)=train_models()"
      ]
    },
    {
      "cell_type": "markdown",
      "source": [
        "**Analysis of features**<br>\n",
        "From this data we learn feature importance and confirms our predictions from our data exploration. We see that the True Advantage (advantage of being the home team) does have a noticible impact based on feature importance. We also see from the feature importance that the four factors that our research said were most critical in predicting basketball games lined up very similarly with the feature important in our classification models.\n"
      ],
      "metadata": {
        "id": "PAuo022DtMeG"
      }
    },
    {
      "cell_type": "markdown",
      "source": [
        "<br>**Comparing Models** <br>\n",
        "When we look at the graphs produced from our compare models graph we can see there are clear models we should be using if we are to predict future games. By looking at both the graphs and the classification report models we see that logistic regression is the best for purely classifying a winner or a loser and we will use that for predicting a winner between two matchups. Analyzing the results from the spread we can determine that gradient boost is noticiably better at finding results of the spread. When anylzing the MAE and the R2 of the regression models that we trained we can see a clear advantage of using gradient boost so we will use that when trying to predict the spread of basketball games later on."
      ],
      "metadata": {
        "id": "dMw_VvwCgoIV"
      }
    },
    {
      "cell_type": "markdown",
      "metadata": {
        "id": "Vq4UW55apUEu"
      },
      "source": [
        "**Game Predictor**\n",
        "\n",
        "To determine the winner of a matchup and the projected spread, we can utilize the below functions and current data for two teams to predict the matchup."
      ]
    },
    {
      "cell_type": "code",
      "source": [
        "def two_team_matchup(team1, team2):\n",
        "    team1=team1.upper()\n",
        "    team2=team2.upper()\n",
        "    current_data['Team'] = current_data['Team'].str.upper()\n",
        "    team1_data = current_data[current_data['Team'] == team1]\n",
        "    team2_data = current_data[current_data['Team'] == team2]\n",
        "    if team1_data.empty or team2_data.empty:\n",
        "        print(\"One or both teams not found in the dataset.\")\n",
        "        return\n",
        "    team1_avg = team1_data[numeric_cols].mean()\n",
        "    team2_avg = team2_data[numeric_cols].mean()\n",
        "    #display(team1_avg)\n",
        "    #display(team2_avg)\n",
        "    features = {\n",
        "        'Adj. O': team1_avg['Adj. O'],\n",
        "        'Adj. D': team1_avg['Adj. D'],\n",
        "        'T': team1_avg['T'],\n",
        "        'eFG%_O': team1_avg['eFG%_O'],\n",
        "        'TO%_O': team1_avg['TO%_O'],\n",
        "        'Reb%_O': team1_avg['Reb%_O'],\n",
        "        'FTR_O': team1_avg['FTR_O'],\n",
        "        'eFG%_D': team1_avg['eFG%_D'],\n",
        "        'TO%_D': team1_avg['TO%_D'],\n",
        "        'Reb%_D': team1_avg['Reb%_D'],\n",
        "        'FTR_D': team1_avg['FTR_D'],\n",
        "        'hca': team1_avg['hca'],\n",
        "        'Offense_vs_Defense': team1_avg['Adj. O'] - team2_avg['Adj. D'],\n",
        "        'Defense_vs_Offense': team1_avg['Adj. D'] - team2_avg['Adj. O'],\n",
        "        'Tempo_Differential': team1_avg['T'] - team2_avg['T'],\n",
        "        'eFG_Advantage_O': team1_avg['eFG%_O'] - team2_avg['eFG%_D'],\n",
        "        'TO_Advantage_O': team2_avg['TO%_D'] - team1_avg['TO%_O'],\n",
        "        'Reb_Advantage_O': team1_avg['Reb%_O'] - team2_avg['Reb%_D'],\n",
        "        'FTR_Advantage_O': team1_avg['FTR_O'] - team2_avg['FTR_D'],\n",
        "        'eFG_Advantage_D': team2_avg['eFG%_O'] - team1_avg['eFG%_D'],\n",
        "        'TO_Advantage_D': team1_avg['TO%_D'] - team2_avg['TO%_O'],\n",
        "        'Reb_Advantage_D': team2_avg['Reb%_O'] - team1_avg['Reb%_D'],\n",
        "        'FTR_Advantage_D': team2_avg['FTR_O'] - team1_avg['FTR_D'],\n",
        "        'True Advantage': 0\n",
        "    }\n",
        "    matchup_df = pd.DataFrame([features])\n",
        "    matchup_df.fillna(0, inplace=True)\n",
        "\n",
        "    return matchup_df\n"
      ],
      "metadata": {
        "id": "11o2fw3k18-h"
      },
      "execution_count": null,
      "outputs": []
    },
    {
      "cell_type": "markdown",
      "source": [
        "Our predict winner function takes the current data for both teams and applies the logistic regression model to determine the winner."
      ],
      "metadata": {
        "id": "RrCmPjbH9Ioz"
      }
    },
    {
      "cell_type": "code",
      "execution_count": null,
      "metadata": {
        "id": "mILp8KATpVK9"
      },
      "outputs": [],
      "source": [
        "def predict_winner(team1, team2, home):\n",
        "    team1=team1.upper()\n",
        "    team2=team2.upper()\n",
        "    current_data['Team'] = current_data['Team'].str.upper()\n",
        "    team1_data = current_data[current_data['Team'] == team1]\n",
        "    team2_data = current_data[current_data['Team'] == team2]\n",
        "    if team1_data.empty or team2_data.empty:\n",
        "        print(\"One or both teams not found in the dataset.\")\n",
        "        return\n",
        "    matchup1 = two_team_matchup(team1, team2)\n",
        "    matchup2 = two_team_matchup(team2, team1)\n",
        "    if home.lower() == 'h':\n",
        "      matchup1['True Advantage'] = team1_data['hca'].mean()\n",
        "      matchup2['True Advantage'] = 0\n",
        "    elif home.lower() == 'a':\n",
        "      matchup1['True Advantage'] = 0\n",
        "      matchup2['True Advantage'] = team2_data['hca'].mean()\n",
        "    else:\n",
        "      matchup1['True Advantage'] = 0\n",
        "      matchup2['True Advantage'] = 0\n",
        "    # team1_avg = team1_matchup[all_features].mean()\n",
        "    # team2_avg = team2_matchup[all_features].mean()\n",
        "    # X = matchup\n",
        "    matchup1.fillna(0, inplace=True)\n",
        "    matchup2.fillna(0, inplace=True)\n",
        "    m1_scaled = scaler.transform(matchup1)\n",
        "    m2_scaled = scaler.transform(matchup2)\n",
        "    prediction1 = log_model.predict_proba(m1_scaled)\n",
        "    prediction2 = log_model.predict_proba(m2_scaled)\n",
        "    team1_win_prob = prediction1[0][1]\n",
        "    team2_win_prob = prediction2[0][1]\n",
        "    # print(f\"Logistic Regression Win Probability for {team1}: {team1_win_prob}\")\n",
        "    # print(f\"Logistic Regression Win Probability for {team2}: {team2_win_prob}\")\n",
        "    if team1_win_prob>team2_win_prob:\n",
        "      print(f\"Most likely for {team1} to win in Log Reg\")\n",
        "    else:\n",
        "      print(f\"Most likely for {team2} to win in Log Reg\")\n",
        "    matchup1.to_csv('matchup.csv', index=False)\n",
        "    # display(team1_matchup)\n",
        "    # display(team2_matchup)"
      ]
    },
    {
      "cell_type": "markdown",
      "source": [
        "Our predict spread function takes the current data for two teams and uses Gradient Boost to predict the spread between the two teams."
      ],
      "metadata": {
        "id": "rXIQqWNE9RRV"
      }
    },
    {
      "cell_type": "code",
      "source": [
        "def predict_spread(team1, team2, home):\n",
        "\n",
        "    team1=team1.upper()\n",
        "    team2=team2.upper()\n",
        "    current_data['Team'] = current_data['Team'].str.upper()\n",
        "    team1_data = current_data[current_data['Team'] == team1]\n",
        "    team2_data = current_data[current_data['Team'] == team2]\n",
        "    if team1_data.empty or team2_data.empty:\n",
        "        print(\"One or both teams not found in the dataset.\")\n",
        "        return\n",
        "    matchup1 = two_team_matchup(team1, team2)\n",
        "    matchup2 = two_team_matchup(team2, team1)\n",
        "    if home.lower() == 'h':\n",
        "      matchup1['True Advantage'] = team1_data['hca'].mean()\n",
        "      matchup2['True Advantage'] = 0\n",
        "    elif home.lower() == 'a':\n",
        "      matchup1['True Advantage'] = 0\n",
        "      matchup2['True Advantage'] = team2_data['hca'].mean()\n",
        "    else:\n",
        "      matchup1['True Advantage'] = 0\n",
        "      matchup2['True Advantage'] = 0\n",
        "\n",
        "    matchup1.fillna(0, inplace=True)\n",
        "    matchup2.fillna(0, inplace=True)\n",
        "    m1_scaled = scaler.transform(matchup1)\n",
        "    m2_scaled = scaler.transform(matchup2)\n",
        "    prediction1 = gb_reg.predict(m1_scaled)\n",
        "    prediction2 = gb_reg.predict(m2_scaled)\n",
        "    spread = prediction1[0] - prediction2[0]\n",
        "\n",
        "    if spread > 0:\n",
        "      print(f\"Most likely for {team1} to win in Gradient Boost by {spread} points\")\n",
        "    else:\n",
        "      print(f\"Most likely for {team2} to win in Gradient Boost by {-spread} points\")\n"
      ],
      "metadata": {
        "id": "KF83gk_p_CML"
      },
      "execution_count": null,
      "outputs": []
    },
    {
      "cell_type": "markdown",
      "source": [
        "Run this main method to predict future games."
      ],
      "metadata": {
        "id": "IYl9Bq1Dj-z6"
      }
    },
    {
      "cell_type": "code",
      "source": [
        "def main():\n",
        "  # t1 = input(\"What is team 1? \")\n",
        "  # t2 = input(\"What is team 2? \")\n",
        "  # home = input(\"Is team 1 home? (h for home a for away, n for neutral) \")\n",
        "  # predict_winner(t1,t2,home)\n",
        "  # predict_spread(t1,t2,home)\n",
        "  '''heres some examples since the running predictor wont actually work in static html\n",
        "  lets do the round of 16 instead of using inputs'''\n",
        "  predict_winner('Maryland','Florida','n')\n",
        "  predict_spread('Maryland','Florida','n')\n",
        "  predict_winner('Houston', 'Purdue', 'n')\n",
        "  predict_spread('Houston', 'Purdue', 'n')\n",
        "  predict_winner('Texas Tech', 'Arkansas', 'n')\n",
        "  predict_spread('Texas Tech', 'Arkansas', 'n')\n",
        "  predict_winner('Auburn', 'Michigan', 'n')\n",
        "  predict_spread('Auburn', 'Michigan', 'n')\n",
        "  predict_winner('Alabama', 'BYU', 'n')\n",
        "  predict_spread('Alabama', 'BYU', 'n')\n",
        "  predict_winner('Duke', 'Arizona', 'n')\n",
        "  predict_spread('Duke', 'Arizona', 'n')\n",
        "  predict_winner('Michigan St.', 'Mississippi', 'n')\n",
        "  predict_spread('Michigan St.', 'Mississippi', 'n')\n",
        "  predict_winner('Tennessee', 'Kentucky', 'n')\n",
        "  predict_spread('Tennessee', 'Kentucky', 'n')\n",
        "  predict_spread('Maryland','Michigan St.','n')\n",
        "  predict_spread('Maryland','Michigan St.','h')\n",
        "  predict_spread('Maryland','Michigan St.','a')\n",
        "\n",
        "main()"
      ],
      "metadata": {
        "id": "DLwFhbaab5rY",
        "colab": {
          "base_uri": "https://localhost:8080/"
        },
        "outputId": "a382c81b-2267-4537-9a63-516a7c15ddce"
      },
      "execution_count": null,
      "outputs": [
        {
          "output_type": "stream",
          "name": "stdout",
          "text": [
            "Most likely for FLORIDA to win in Log Reg\n",
            "Most likely for FLORIDA to win in Gradient Boost by 2.713302750668311 points\n",
            "Most likely for HOUSTON to win in Log Reg\n",
            "Most likely for HOUSTON to win in Gradient Boost by 9.136846641801899 points\n",
            "Most likely for TEXAS TECH to win in Log Reg\n",
            "Most likely for TEXAS TECH to win in Gradient Boost by 1.8650671313101763 points\n",
            "Most likely for AUBURN to win in Log Reg\n",
            "Most likely for AUBURN to win in Gradient Boost by 8.58018096677944 points\n",
            "Most likely for ALABAMA to win in Log Reg\n",
            "Most likely for ALABAMA to win in Gradient Boost by 6.040648611257204 points\n",
            "Most likely for DUKE to win in Log Reg\n",
            "Most likely for DUKE to win in Gradient Boost by 6.537435241724356 points\n",
            "Most likely for MICHIGAN ST. to win in Log Reg\n",
            "Most likely for MICHIGAN ST. to win in Gradient Boost by 1.1278552937674013 points\n",
            "Most likely for TENNESSEE to win in Log Reg\n",
            "Most likely for TENNESSEE to win in Gradient Boost by 3.7390155087847106 points\n",
            "Most likely for MICHIGAN ST. to win in Gradient Boost by 0.6720041721716168 points\n",
            "Most likely for MICHIGAN ST. to win in Gradient Boost by 0.20372401079637292 points\n",
            "Most likely for MICHIGAN ST. to win in Gradient Boost by 1.6079451222217767 points\n"
          ]
        }
      ]
    },
    {
      "cell_type": "markdown",
      "source": [
        "Based on these guesses we got everything right from these games and the spread is close.\n"
      ],
      "metadata": {
        "id": "KdpVwYdH22xT"
      }
    },
    {
      "cell_type": "markdown",
      "source": [
        "Results Tracking During March Madness"
      ],
      "metadata": {
        "id": "nIfuAREau9Ja"
      }
    },
    {
      "cell_type": "code",
      "source": [
        "import pandas as pd\n",
        "\n",
        "results_df = pd.read_csv(\"Results.csv\")\n",
        "results_summary_df = pd.read_csv(\"Results_Summary.csv\")\n",
        "print(results_df.head())\n",
        "print(results_summary_df.head())"
      ],
      "metadata": {
        "colab": {
          "base_uri": "https://localhost:8080/"
        },
        "id": "QpeXNT48vBSC",
        "outputId": "bbf48c5a-bb2f-4d02-b7cf-77db02631b75"
      },
      "execution_count": null,
      "outputs": [
        {
          "output_type": "stream",
          "name": "stdout",
          "text": [
            "        Date         Team One       Team Two Venue Predicted Winner  \\\n",
            "0  3/13/2025            Akron  Bowling Green     H            Akron   \n",
            "1  3/13/2025  St. Bonaventure       Duquesne     N  St. Bonaventure   \n",
            "2  3/13/2025           Oregon        Indiana     A           Oregon   \n",
            "3  3/13/2025             Duke   Georgia Tech     H             Duke   \n",
            "4  3/13/2025       St. John's         Butler     H        St. Johns   \n",
            "\n",
            "       Predicted Spread         ESPN BET Line                     Actual Game  \\\n",
            "0            Akron -9.2           Akron -12.5      Akron 96, Bowling Green 67   \n",
            "1  St. Bonaventure -6.2  St. Bonaventure -2.5  St Bonaventure 64, Duqeusne 59   \n",
            "2           Oregon -6.2           Oregon -2.5           Oregon 72, Indiana 59   \n",
            "3            Duke -13.6            Duke -22.5        Duke 78, Georgia Tech 70   \n",
            "4       St. John's -6.9      St. John's -12.5        St. John's 78, Butler 57   \n",
            "\n",
            "     Actual Winner Winner Correct       ResultSpread  Difference  \\\n",
            "0            Akron              Y          Akron -29        19.8   \n",
            "1  St. Bonaventure              Y  St Bonaventure -5         1.2   \n",
            "2           Oregon              Y         Oregon -13         6.8   \n",
            "3             Duke              Y            Duke -8         5.6   \n",
            "4       St. John's              Y     St. John's -21        14.1   \n",
            "\n",
            "  Beat the Spread  Unit  \n",
            "0               N -1.00  \n",
            "1               Y  0.91  \n",
            "2               Y  0.91  \n",
            "3               Y  0.91  \n",
            "4               N -1.00  \n",
            "   Total Profit  Spread Correct  Spread Incorrect  Spread Accuracy  \\\n",
            "0         -4.93              77                75         0.506579   \n",
            "\n",
            "   Winner Correct  Winner Incorrect  Winner Accuracy    MAE  \n",
            "0             110                42         0.723684  9.622  \n"
          ]
        }
      ]
    },
    {
      "cell_type": "code",
      "source": [
        "summary = results_summary_df.iloc[0]\n",
        "\n",
        "labels = ['Winner Accuracy', 'Spread Accuracy']\n",
        "values = [summary['Winner Accuracy'], summary['Spread Accuracy']]\n",
        "\n",
        "plt.figure(figsize=(6, 4))\n",
        "plt.bar(labels, values)\n",
        "plt.title('Model Accuracy: Winner vs. Spread')\n",
        "plt.ylabel('Accuracy')\n",
        "plt.ylim(0, 1)\n",
        "plt.grid(axis='y', linestyle='--', alpha=0.7)\n",
        "plt.tight_layout()\n",
        "plt.show()\n"
      ],
      "metadata": {
        "id": "vHQJsG7s9z_u",
        "colab": {
          "base_uri": "https://localhost:8080/",
          "height": 407
        },
        "outputId": "c05f8f96-03f6-4714-f4d4-d5fdb4c16796"
      },
      "execution_count": null,
      "outputs": [
        {
          "output_type": "display_data",
          "data": {
            "text/plain": [
              "<Figure size 600x400 with 1 Axes>"
            ],
            "image/png": "[encoded data removed]"
          },
          "metadata": {}
        }
      ]
    },
    {
      "cell_type": "markdown",
      "source": [
        "## Insights and Conclusion\n",
        "We predicted the spread and winner for 152 games during conference tournaments, the NIT tournament, and March Madness. We predicted the correct winner for 110 out of 152 games, achieving an accuracy of 72.4%. In terms of predicting the spread, we predicted 77 out of 152 games correctly, achieving an accuracy of 50.7%. For our betting assumptions we assumed that 1 unit was bet on each game, where every correct bet would return .91 units of profit (assumes -110 odds) and every incorrect game would yield -1 unit loss. Ultimately our model lost 4.93 units, making the model unprofitable. For a betting model to be profitable, it would need to achieve 52.4% accuracy or higher. Lastly, looking at our MAE, a key metric for a basketball model, our model outputted a 9.6 MAE, much higher than a sportsbook's model which would average 3-5 for MAE.  "
      ],
      "metadata": {
        "id": "eWE1_l253bB-"
      }
    },
    {
      "cell_type": "markdown",
      "source": [
        "**ANSWERING OUR QUESTIONS**\n",
        "\n",
        "1) Can we accurately predict the outcome of a college basketball game using advanced team statistics?\n",
        "\n",
        "A: According to our results we can accurately predict the winner of a matchup 72.4% of the time, and accurately predict the direction of the spread 50.7% of the time. Our model can predict the winner of a matchup with strong accuracy, however beating the Sportsbooks is still a challenge for our model, which does slightly better than a coin flip.\n",
        "\n",
        "2)How much does home court advantage actually impact the final score or spread?\n",
        "\n",
        "A: Home court advantage or true advantage is the 8th most important feature in our feature set, meaning it is one of the most significant factors in determining the outcome of a game. While we can't say precisely how many points it accounts for in each matchup because a team's home court advantage varies, any prediction model should absolutely include home court advantage as a feature.\n",
        "\n",
        "3)Which factors—offensive efficiency, defensive metrics, location—are most important in determining a game’s result?\n",
        "\n",
        "A: From our analysis, efg% is the most important feature, both offensive efg% and defensive efg%, meaning how well the offense scores and how well they limit the percentage of the opponent. This is followed by adjusted offense and defense, which highlight how good a team's offense and defense are compared to the average Division 1 team. Any adjusted offense above 100 is considered above average and any adjusted defense below 100 is considered above average. The next most important stat is TOV% for both offense and defense, meaning how well a team limits its turnovers and forces the other team to make turnovers. This highlights that the number of possessions is very important to the outcome of a game, and generally the team that shoots better and has more possessions will almost certainly win."
      ],
      "metadata": {
        "id": "hq-TvEFbBo8P"
      }
    },
    {
      "cell_type": "markdown",
      "source": [
        "**POTENTIAL IMPROVEMENTS**\n",
        "\n",
        "Since predicting the outcome of a college basketball game is based on numerous variables, there were several variables not looked at in our analysis. For example, we did not analyze coaching matchups, injuries, distance traveled, last 5 games data, runs per game, and many other factors that significantly impact the outcome of a basketball game. Additionally, we also could have looked into implementing a neural network to model the complex relationships between factors, which may have been more predictive. Additionally, we could have increased the size of our training and testing datasets to include more games, giving our models more data to learn from. Another challenge we faced is that our testing data does not have adequate samples for smaller colleges (low D1) that make predicting their matchups more challenging."
      ],
      "metadata": {
        "id": "K8tauahI6W0K"
      }
    },
    {
      "cell_type": "markdown",
      "source": [
        "**Sources**\n"
      ],
      "metadata": {
        "id": "uYtFQS6hwwZ6"
      }
    },
    {
      "cell_type": "markdown",
      "source": [
        "https://barttorvik.com/trankpre.php\n",
        "\n",
        "https://www.boydsbets.com/college-basketball-home-court-advantage/\n",
        "\n",
        "https://archive.org/details/basketballonpape0000dean/mode/2up"
      ],
      "metadata": {
        "id": "Jk2LHnVv94q6"
      }
    }
  ],
  "metadata": {
    "colab": {
      "provenance": []
    },
    "kernelspec": {
      "display_name": "Python 3",
      "name": "python3"
    },
    "language_info": {
      "codemirror_mode": {
        "name": "ipython",
        "version": 3
      },
      "file_extension": ".py",
      "mimetype": "text/x-python",
      "name": "python",
      "nbconvert_exporter": "python",
      "pygments_lexer": "ipython3",
      "version": "3.12.3"
    }
  },
  "nbformat": 4,
  "nbformat_minor": 0
}